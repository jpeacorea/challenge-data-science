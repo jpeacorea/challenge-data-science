{
  "cells": [
    {
      "cell_type": "markdown",
      "metadata": {
        "id": "RhEdWd9YUR6H"
      },
      "source": [
        "### Importación de datos\n",
        "\n"
      ]
    },
    {
      "cell_type": "code",
      "execution_count": 24,
      "metadata": {
        "colab": {
          "base_uri": "https://localhost:8080/",
          "height": 247
        },
        "id": "T3EvaeQ_INIL",
        "outputId": "7ad15f72-aac4-4dfb-9483-21237197547a"
      },
      "outputs": [
        {
          "output_type": "execute_result",
          "data": {
<<<<<<< HEAD
            "text/html": [
              "<div>\n",
=======
            "text/plain": [
              "            Producto Categoría del Producto    Precio  Costo de envío  \\\n",
              "0  Asistente virtual           Electrónicos  164300.0          6900.0   \n",
              "1    Mesa de comedor                Muebles  192300.0          8400.0   \n",
              "2      Juego de mesa               Juguetes  209600.0         15900.0   \n",
              "3         Microondas      Electrodomésticos  757500.0         41000.0   \n",
              "4   Silla de oficina                Muebles  335200.0         20200.0   \n",
              "\n",
              "  Fecha de Compra         Vendedor Lugar de Compra  Calificación  \\\n",
              "0      16/01/2021      Pedro Gomez          Bogotá             4   \n",
              "1      18/05/2022  Beatriz Morales        Medellín             1   \n",
              "2      15/03/2021   Juan Fernandez       Cartagena             1   \n",
              "3      03/05/2022   Juan Fernandez            Cali             4   \n",
              "4      07/11/2020    Maria Alfonso        Medellín             5   \n",
              "\n",
              "       Método de pago  Cantidad de cuotas       lat       lon  \n",
              "0  Tarjeta de crédito                   8   4.60971 -74.08175  \n",
              "1  Tarjeta de crédito                   4   6.25184 -75.56359  \n",
              "2  Tarjeta de crédito                   1  10.39972 -75.51444  \n",
              "3               Nequi                   1   3.43722 -76.52250  \n",
              "4               Nequi                   1   6.25184 -75.56359  "
            ],
            "text/html": [
              "\n",
              "  <div id=\"df-69a3e67f-2d47-420e-ba6b-ee81da5b99f0\" class=\"colab-df-container\">\n",
              "    <div>\n",
>>>>>>> c1e8a3b4afffa8419795c9fedbd971c722f1fb98
              "<style scoped>\n",
              "    .dataframe tbody tr th:only-of-type {\n",
              "        vertical-align: middle;\n",
              "    }\n",
              "\n",
              "    .dataframe tbody tr th {\n",
              "        vertical-align: top;\n",
              "    }\n",
              "\n",
              "    .dataframe thead th {\n",
              "        text-align: right;\n",
              "    }\n",
              "</style>\n",
              "<table border=\"1\" class=\"dataframe\">\n",
              "  <thead>\n",
              "    <tr style=\"text-align: right;\">\n",
              "      <th></th>\n",
              "      <th>Producto</th>\n",
              "      <th>Categoría del Producto</th>\n",
              "      <th>Precio</th>\n",
              "      <th>Costo de envío</th>\n",
              "      <th>Fecha de Compra</th>\n",
              "      <th>Vendedor</th>\n",
              "      <th>Lugar de Compra</th>\n",
              "      <th>Calificación</th>\n",
              "      <th>Método de pago</th>\n",
              "      <th>Cantidad de cuotas</th>\n",
              "      <th>lat</th>\n",
              "      <th>lon</th>\n",
              "    </tr>\n",
              "  </thead>\n",
              "  <tbody>\n",
              "    <tr>\n",
              "      <th>0</th>\n",
              "      <td>Asistente virtual</td>\n",
              "      <td>Electrónicos</td>\n",
              "      <td>164300.0</td>\n",
              "      <td>6900.0</td>\n",
              "      <td>16/01/2021</td>\n",
              "      <td>Pedro Gomez</td>\n",
              "      <td>Bogotá</td>\n",
              "      <td>4</td>\n",
              "      <td>Tarjeta de crédito</td>\n",
              "      <td>8</td>\n",
              "      <td>4.60971</td>\n",
              "      <td>-74.08175</td>\n",
              "    </tr>\n",
              "    <tr>\n",
              "      <th>1</th>\n",
              "      <td>Mesa de comedor</td>\n",
              "      <td>Muebles</td>\n",
              "      <td>192300.0</td>\n",
              "      <td>8400.0</td>\n",
              "      <td>18/05/2022</td>\n",
              "      <td>Beatriz Morales</td>\n",
              "      <td>Medellín</td>\n",
              "      <td>1</td>\n",
              "      <td>Tarjeta de crédito</td>\n",
              "      <td>4</td>\n",
              "      <td>6.25184</td>\n",
              "      <td>-75.56359</td>\n",
              "    </tr>\n",
              "    <tr>\n",
              "      <th>2</th>\n",
              "      <td>Juego de mesa</td>\n",
              "      <td>Juguetes</td>\n",
              "      <td>209600.0</td>\n",
              "      <td>15900.0</td>\n",
              "      <td>15/03/2021</td>\n",
              "      <td>Juan Fernandez</td>\n",
              "      <td>Cartagena</td>\n",
              "      <td>1</td>\n",
              "      <td>Tarjeta de crédito</td>\n",
              "      <td>1</td>\n",
              "      <td>10.39972</td>\n",
              "      <td>-75.51444</td>\n",
              "    </tr>\n",
              "    <tr>\n",
              "      <th>3</th>\n",
              "      <td>Microondas</td>\n",
              "      <td>Electrodomésticos</td>\n",
              "      <td>757500.0</td>\n",
              "      <td>41000.0</td>\n",
              "      <td>03/05/2022</td>\n",
              "      <td>Juan Fernandez</td>\n",
              "      <td>Cali</td>\n",
              "      <td>4</td>\n",
              "      <td>Nequi</td>\n",
              "      <td>1</td>\n",
              "      <td>3.43722</td>\n",
              "      <td>-76.52250</td>\n",
              "    </tr>\n",
              "    <tr>\n",
              "      <th>4</th>\n",
              "      <td>Silla de oficina</td>\n",
              "      <td>Muebles</td>\n",
              "      <td>335200.0</td>\n",
              "      <td>20200.0</td>\n",
              "      <td>07/11/2020</td>\n",
              "      <td>Maria Alfonso</td>\n",
              "      <td>Medellín</td>\n",
              "      <td>5</td>\n",
              "      <td>Nequi</td>\n",
              "      <td>1</td>\n",
              "      <td>6.25184</td>\n",
              "      <td>-75.56359</td>\n",
              "    </tr>\n",
              "  </tbody>\n",
              "</table>\n",
<<<<<<< HEAD
              "</div>"
=======
              "</div>\n",
              "    <div class=\"colab-df-buttons\">\n",
              "\n",
              "  <div class=\"colab-df-container\">\n",
              "    <button class=\"colab-df-convert\" onclick=\"convertToInteractive('df-69a3e67f-2d47-420e-ba6b-ee81da5b99f0')\"\n",
              "            title=\"Convert this dataframe to an interactive table.\"\n",
              "            style=\"display:none;\">\n",
              "\n",
              "  <svg xmlns=\"http://www.w3.org/2000/svg\" height=\"24px\" viewBox=\"0 -960 960 960\">\n",
              "    <path d=\"M120-120v-720h720v720H120Zm60-500h600v-160H180v160Zm220 220h160v-160H400v160Zm0 220h160v-160H400v160ZM180-400h160v-160H180v160Zm440 0h160v-160H620v160ZM180-180h160v-160H180v160Zm440 0h160v-160H620v160Z\"/>\n",
              "  </svg>\n",
              "    </button>\n",
              "\n",
              "  <style>\n",
              "    .colab-df-container {\n",
              "      display:flex;\n",
              "      gap: 12px;\n",
              "    }\n",
              "\n",
              "    .colab-df-convert {\n",
              "      background-color: #E8F0FE;\n",
              "      border: none;\n",
              "      border-radius: 50%;\n",
              "      cursor: pointer;\n",
              "      display: none;\n",
              "      fill: #1967D2;\n",
              "      height: 32px;\n",
              "      padding: 0 0 0 0;\n",
              "      width: 32px;\n",
              "    }\n",
              "\n",
              "    .colab-df-convert:hover {\n",
              "      background-color: #E2EBFA;\n",
              "      box-shadow: 0px 1px 2px rgba(60, 64, 67, 0.3), 0px 1px 3px 1px rgba(60, 64, 67, 0.15);\n",
              "      fill: #174EA6;\n",
              "    }\n",
              "\n",
              "    .colab-df-buttons div {\n",
              "      margin-bottom: 4px;\n",
              "    }\n",
              "\n",
              "    [theme=dark] .colab-df-convert {\n",
              "      background-color: #3B4455;\n",
              "      fill: #D2E3FC;\n",
              "    }\n",
              "\n",
              "    [theme=dark] .colab-df-convert:hover {\n",
              "      background-color: #434B5C;\n",
              "      box-shadow: 0px 1px 3px 1px rgba(0, 0, 0, 0.15);\n",
              "      filter: drop-shadow(0px 1px 2px rgba(0, 0, 0, 0.3));\n",
              "      fill: #FFFFFF;\n",
              "    }\n",
              "  </style>\n",
              "\n",
              "    <script>\n",
              "      const buttonEl =\n",
              "        document.querySelector('#df-69a3e67f-2d47-420e-ba6b-ee81da5b99f0 button.colab-df-convert');\n",
              "      buttonEl.style.display =\n",
              "        google.colab.kernel.accessAllowed ? 'block' : 'none';\n",
              "\n",
              "      async function convertToInteractive(key) {\n",
              "        const element = document.querySelector('#df-69a3e67f-2d47-420e-ba6b-ee81da5b99f0');\n",
              "        const dataTable =\n",
              "          await google.colab.kernel.invokeFunction('convertToInteractive',\n",
              "                                                    [key], {});\n",
              "        if (!dataTable) return;\n",
              "\n",
              "        const docLinkHtml = 'Like what you see? Visit the ' +\n",
              "          '<a target=\"_blank\" href=https://colab.research.google.com/notebooks/data_table.ipynb>data table notebook</a>'\n",
              "          + ' to learn more about interactive tables.';\n",
              "        element.innerHTML = '';\n",
              "        dataTable['output_type'] = 'display_data';\n",
              "        await google.colab.output.renderOutput(dataTable, element);\n",
              "        const docLink = document.createElement('div');\n",
              "        docLink.innerHTML = docLinkHtml;\n",
              "        element.appendChild(docLink);\n",
              "      }\n",
              "    </script>\n",
              "  </div>\n",
              "\n",
              "\n",
              "<div id=\"df-29c0dfda-1f8d-4d7c-93e9-45f59b323493\">\n",
              "  <button class=\"colab-df-quickchart\" onclick=\"quickchart('df-29c0dfda-1f8d-4d7c-93e9-45f59b323493')\"\n",
              "            title=\"Suggest charts\"\n",
              "            style=\"display:none;\">\n",
              "\n",
              "<svg xmlns=\"http://www.w3.org/2000/svg\" height=\"24px\"viewBox=\"0 0 24 24\"\n",
              "     width=\"24px\">\n",
              "    <g>\n",
              "        <path d=\"M19 3H5c-1.1 0-2 .9-2 2v14c0 1.1.9 2 2 2h14c1.1 0 2-.9 2-2V5c0-1.1-.9-2-2-2zM9 17H7v-7h2v7zm4 0h-2V7h2v10zm4 0h-2v-4h2v4z\"/>\n",
              "    </g>\n",
              "</svg>\n",
              "  </button>\n",
              "\n",
              "<style>\n",
              "  .colab-df-quickchart {\n",
              "      --bg-color: #E8F0FE;\n",
              "      --fill-color: #1967D2;\n",
              "      --hover-bg-color: #E2EBFA;\n",
              "      --hover-fill-color: #174EA6;\n",
              "      --disabled-fill-color: #AAA;\n",
              "      --disabled-bg-color: #DDD;\n",
              "  }\n",
              "\n",
              "  [theme=dark] .colab-df-quickchart {\n",
              "      --bg-color: #3B4455;\n",
              "      --fill-color: #D2E3FC;\n",
              "      --hover-bg-color: #434B5C;\n",
              "      --hover-fill-color: #FFFFFF;\n",
              "      --disabled-bg-color: #3B4455;\n",
              "      --disabled-fill-color: #666;\n",
              "  }\n",
              "\n",
              "  .colab-df-quickchart {\n",
              "    background-color: var(--bg-color);\n",
              "    border: none;\n",
              "    border-radius: 50%;\n",
              "    cursor: pointer;\n",
              "    display: none;\n",
              "    fill: var(--fill-color);\n",
              "    height: 32px;\n",
              "    padding: 0;\n",
              "    width: 32px;\n",
              "  }\n",
              "\n",
              "  .colab-df-quickchart:hover {\n",
              "    background-color: var(--hover-bg-color);\n",
              "    box-shadow: 0 1px 2px rgba(60, 64, 67, 0.3), 0 1px 3px 1px rgba(60, 64, 67, 0.15);\n",
              "    fill: var(--button-hover-fill-color);\n",
              "  }\n",
              "\n",
              "  .colab-df-quickchart-complete:disabled,\n",
              "  .colab-df-quickchart-complete:disabled:hover {\n",
              "    background-color: var(--disabled-bg-color);\n",
              "    fill: var(--disabled-fill-color);\n",
              "    box-shadow: none;\n",
              "  }\n",
              "\n",
              "  .colab-df-spinner {\n",
              "    border: 2px solid var(--fill-color);\n",
              "    border-color: transparent;\n",
              "    border-bottom-color: var(--fill-color);\n",
              "    animation:\n",
              "      spin 1s steps(1) infinite;\n",
              "  }\n",
              "\n",
              "  @keyframes spin {\n",
              "    0% {\n",
              "      border-color: transparent;\n",
              "      border-bottom-color: var(--fill-color);\n",
              "      border-left-color: var(--fill-color);\n",
              "    }\n",
              "    20% {\n",
              "      border-color: transparent;\n",
              "      border-left-color: var(--fill-color);\n",
              "      border-top-color: var(--fill-color);\n",
              "    }\n",
              "    30% {\n",
              "      border-color: transparent;\n",
              "      border-left-color: var(--fill-color);\n",
              "      border-top-color: var(--fill-color);\n",
              "      border-right-color: var(--fill-color);\n",
              "    }\n",
              "    40% {\n",
              "      border-color: transparent;\n",
              "      border-right-color: var(--fill-color);\n",
              "      border-top-color: var(--fill-color);\n",
              "    }\n",
              "    60% {\n",
              "      border-color: transparent;\n",
              "      border-right-color: var(--fill-color);\n",
              "    }\n",
              "    80% {\n",
              "      border-color: transparent;\n",
              "      border-right-color: var(--fill-color);\n",
              "      border-bottom-color: var(--fill-color);\n",
              "    }\n",
              "    90% {\n",
              "      border-color: transparent;\n",
              "      border-bottom-color: var(--fill-color);\n",
              "    }\n",
              "  }\n",
              "</style>\n",
              "\n",
              "  <script>\n",
              "    async function quickchart(key) {\n",
              "      const quickchartButtonEl =\n",
              "        document.querySelector('#' + key + ' button');\n",
              "      quickchartButtonEl.disabled = true;  // To prevent multiple clicks.\n",
              "      quickchartButtonEl.classList.add('colab-df-spinner');\n",
              "      try {\n",
              "        const charts = await google.colab.kernel.invokeFunction(\n",
              "            'suggestCharts', [key], {});\n",
              "      } catch (error) {\n",
              "        console.error('Error during call to suggestCharts:', error);\n",
              "      }\n",
              "      quickchartButtonEl.classList.remove('colab-df-spinner');\n",
              "      quickchartButtonEl.classList.add('colab-df-quickchart-complete');\n",
              "    }\n",
              "    (() => {\n",
              "      let quickchartButtonEl =\n",
              "        document.querySelector('#df-29c0dfda-1f8d-4d7c-93e9-45f59b323493 button');\n",
              "      quickchartButtonEl.style.display =\n",
              "        google.colab.kernel.accessAllowed ? 'block' : 'none';\n",
              "    })();\n",
              "  </script>\n",
              "</div>\n",
              "\n",
              "    </div>\n",
              "  </div>\n"
>>>>>>> c1e8a3b4afffa8419795c9fedbd971c722f1fb98
            ],
            "application/vnd.google.colaboratory.intrinsic+json": {
              "type": "dataframe",
              "variable_name": "tienda",
              "summary": "{\n  \"name\": \"tienda\",\n  \"rows\": 2359,\n  \"fields\": [\n    {\n      \"column\": \"Producto\",\n      \"properties\": {\n        \"dtype\": \"category\",\n        \"num_unique_values\": 51,\n        \"samples\": [\n          \"Guitarra ac\\u00fastica\",\n          \"Bal\\u00f3n de baloncesto\",\n          \"Smartwatch\"\n        ],\n        \"semantic_type\": \"\",\n        \"description\": \"\"\n      }\n    },\n    {\n      \"column\": \"Categor\\u00eda del Producto\",\n      \"properties\": {\n        \"dtype\": \"category\",\n        \"num_unique_values\": 8,\n        \"samples\": [\n          \"Muebles\",\n          \"Deportes y diversi\\u00f3n\",\n          \"Electr\\u00f3nicos\"\n        ],\n        \"semantic_type\": \"\",\n        \"description\": \"\"\n      }\n    },\n    {\n      \"column\": \"Precio\",\n      \"properties\": {\n        \"dtype\": \"number\",\n        \"std\": 614686.7653873172,\n        \"min\": 7600.0,\n        \"max\": 2977000.0,\n        \"num_unique_values\": 1937,\n        \"samples\": [\n          2499400.0,\n          14800.0,\n          80500.0\n        ],\n        \"semantic_type\": \"\",\n        \"description\": \"\"\n      }\n    },\n    {\n      \"column\": \"Costo de env\\u00edo\",\n      \"properties\": {\n        \"dtype\": \"number\",\n        \"std\": 32860.0017825605,\n        \"min\": 0.0,\n        \"max\": 160800.0,\n        \"num_unique_values\": 753,\n        \"samples\": [\n          117800.0,\n          54700.0,\n          45600.0\n        ],\n        \"semantic_type\": \"\",\n        \"description\": \"\"\n      }\n    },\n    {\n      \"column\": \"Fecha de Compra\",\n      \"properties\": {\n        \"dtype\": \"object\",\n        \"num_unique_values\": 1018,\n        \"samples\": [\n          \"15/09/2022\",\n          \"03/06/2020\",\n          \"06/11/2021\"\n        ],\n        \"semantic_type\": \"\",\n        \"description\": \"\"\n      }\n    },\n    {\n      \"column\": \"Vendedor\",\n      \"properties\": {\n        \"dtype\": \"category\",\n        \"num_unique_values\": 14,\n        \"samples\": [\n          \"Juliana Costa\",\n          \"Mariana Herrera\",\n          \"Pedro Gomez\"\n        ],\n        \"semantic_type\": \"\",\n        \"description\": \"\"\n      }\n    },\n    {\n      \"column\": \"Lugar de Compra\",\n      \"properties\": {\n        \"dtype\": \"category\",\n        \"num_unique_values\": 19,\n        \"samples\": [\n          \"Bogot\\u00e1\",\n          \"Pereira\",\n          \"Neiva\"\n        ],\n        \"semantic_type\": \"\",\n        \"description\": \"\"\n      }\n    },\n    {\n      \"column\": \"Calificaci\\u00f3n\",\n      \"properties\": {\n        \"dtype\": \"number\",\n        \"std\": 1,\n        \"min\": 1,\n        \"max\": 5,\n        \"num_unique_values\": 5,\n        \"samples\": [\n          1,\n          2,\n          5\n        ],\n        \"semantic_type\": \"\",\n        \"description\": \"\"\n      }\n    },\n    {\n      \"column\": \"M\\u00e9todo de pago\",\n      \"properties\": {\n        \"dtype\": \"category\",\n        \"num_unique_values\": 4,\n        \"samples\": [\n          \"Nequi\",\n          \"Tarjeta de d\\u00e9bito\",\n          \"Tarjeta de cr\\u00e9dito\"\n        ],\n        \"semantic_type\": \"\",\n        \"description\": \"\"\n      }\n    },\n    {\n      \"column\": \"Cantidad de cuotas\",\n      \"properties\": {\n        \"dtype\": \"number\",\n        \"std\": 2,\n        \"min\": 1,\n        \"max\": 24,\n        \"num_unique_values\": 15,\n        \"samples\": [\n          7,\n          14,\n          8\n        ],\n        \"semantic_type\": \"\",\n        \"description\": \"\"\n      }\n    },\n    {\n      \"column\": \"lat\",\n      \"properties\": {\n        \"dtype\": \"number\",\n        \"std\": 2.2874452492678627,\n        \"min\": -4.21528,\n        \"max\": 11.54444,\n        \"num_unique_values\": 19,\n        \"samples\": [\n          4.60971,\n          4.81333,\n          2.9273\n        ],\n        \"semantic_type\": \"\",\n        \"description\": \"\"\n      }\n    },\n    {\n      \"column\": \"lon\",\n      \"properties\": {\n        \"dtype\": \"number\",\n        \"std\": 1.2178272727088486,\n        \"min\": -77.28111,\n        \"max\": -67.9239,\n        \"num_unique_values\": 19,\n        \"samples\": [\n          -74.08175,\n          -75.69611,\n          -75.28189\n        ],\n        \"semantic_type\": \"\",\n        \"description\": \"\"\n      }\n    }\n  ]\n}"
            }
          },
          "metadata": {},
          "execution_count": 24
        }
      ],
      "source": [
        "import pandas as pd\n",
        "\n",
        "url = \"https://raw.githubusercontent.com/alura-es-cursos/challenge1-data-science-latam/refs/heads/main/base-de-datos-challenge1-latam/tienda_1%20.csv\"\n",
        "url2 = \"https://raw.githubusercontent.com/alura-es-cursos/challenge1-data-science-latam/refs/heads/main/base-de-datos-challenge1-latam/tienda_2.csv\"\n",
        "url3 = \"https://raw.githubusercontent.com/alura-es-cursos/challenge1-data-science-latam/refs/heads/main/base-de-datos-challenge1-latam/tienda_3.csv\"\n",
        "url4 = \"https://raw.githubusercontent.com/alura-es-cursos/challenge1-data-science-latam/refs/heads/main/base-de-datos-challenge1-latam/tienda_4.csv\"\n",
        "\n",
        "tienda = pd.read_csv(url)\n",
        "tienda2 = pd.read_csv(url2)\n",
        "tienda3 = pd.read_csv(url3)\n",
        "tienda4 = pd.read_csv(url4)\n",
        "\n",
        "tienda.head()"
      ]
    },
    {
      "cell_type": "markdown",
      "metadata": {
        "id": "X62IW3KFUIYm"
      },
      "source": [
        "# 1. Análisis de facturación\n",
        "\n"
      ]
    },
    {
      "cell_type": "code",
      "execution_count": 4,
      "metadata": {
        "id": "xykobSftV64I",
        "colab": {
          "base_uri": "https://localhost:8080/"
        },
        "outputId": "abb2b779-1de0-4432-977d-1fec27fc8512"
      },
      "outputs": [
        {
          "output_type": "stream",
          "name": "stdout",
          "text": [
            "Total ingresos para tienda 1: 1150880400.0\n",
            "Total ingresos para tienda 2: 1116343500.0\n",
            "Total ingresos para tienda 3: 1098019600.0\n",
            "Total ingresos para tienda 4: 1038375700.0\n"
          ]
        }
      ],
      "source": [
        "# genera el ingreso total de cada tienda, sumando la columna Precio para ingresos\n",
        "\n",
        "import pandas as pd\n",
        "\n",
        "# Calcular los ingresos totales de cada tienda\n",
        "total_ingresos_tienda1 = tienda['Precio'].sum()\n",
        "total_ingresos_tienda2 = tienda2['Precio'].sum()\n",
        "total_ingresos_tienda3 = tienda3['Precio'].sum()\n",
        "total_ingresos_tienda4 = tienda4['Precio'].sum()\n",
        "\n",
        "print(f\"Total ingresos para tienda 1: {total_ingresos_tienda1}\")\n",
        "print(f\"Total ingresos para tienda 2: {total_ingresos_tienda2}\")\n",
        "print(f\"Total ingresos para tienda 3: {total_ingresos_tienda3}\")\n",
        "print(f\"Total ingresos para tienda 4: {total_ingresos_tienda4}\")\n"
      ]
    },
    {
      "cell_type": "markdown",
      "metadata": {
        "id": "2V_vcAPzWZmR"
      },
      "source": [
        "# 2. Ventas por categoría"
      ]
    },
    {
      "cell_type": "code",
      "execution_count": 32,
      "metadata": {
        "id": "A34YupIuYhfF",
        "colab": {
          "base_uri": "https://localhost:8080/"
        },
        "outputId": "14982146-3c60-4407-819e-143053e29ba1"
      },
      "outputs": [
        {
          "output_type": "stream",
          "name": "stdout",
          "text": [
            "Tienda 1 - Categorías más populares:\n",
            "Categoría del Producto\n",
            "Muebles                    465\n",
            "Electrónicos               448\n",
            "Juguetes                   324\n",
            "Electrodomésticos          312\n",
            "Deportes y diversión       284\n",
            "Instrumentos musicales     182\n",
            "Libros                     173\n",
            "Artículos para el hogar    171\n",
            "Name: Precio, dtype: int64\n",
            "\n",
            "Tienda 2 - Categorías más populares:\n",
            "Categoría del Producto\n",
            "Muebles                    442\n",
            "Electrónicos               422\n",
            "Juguetes                   313\n",
            "Electrodomésticos          305\n",
            "Deportes y diversión       275\n",
            "Instrumentos musicales     224\n",
            "Libros                     197\n",
            "Artículos para el hogar    181\n",
            "Name: Precio, dtype: int64\n",
            "\n",
            "Tienda 3 - Categorías más populares:\n",
            "Categoría del Producto\n",
            "Muebles                    499\n",
            "Electrónicos               451\n",
            "Juguetes                   315\n",
            "Electrodomésticos          278\n",
            "Deportes y diversión       277\n",
            "Libros                     185\n",
            "Artículos para el hogar    177\n",
            "Instrumentos musicales     177\n",
            "Name: Precio, dtype: int64\n",
            "\n",
            "Tienda 4 - Categorías más populares:\n",
            "Categoría del Producto\n",
            "Muebles                    480\n",
            "Electrónicos               451\n",
            "Juguetes                   338\n",
            "Deportes y diversión       277\n",
            "Electrodomésticos          254\n",
            "Artículos para el hogar    201\n",
            "Libros                     187\n",
            "Instrumentos musicales     170\n",
            "Name: Precio, dtype: int64\n"
          ]
        }
      ],
      "source": [
        "# Calcular la cantidad de productos vendidos por categoría en cada tienda. La idea es agrupar los datos por categoría y contar el número de ventas de cada tipo, mostrando las categorías más populares de cada tienda.\n",
        "\n",
        "# Agrupar por categoría y contar las ventas para cada tienda\n",
        "ventas_por_categoria_tienda1 = tienda.groupby('Categoría del Producto')['Precio'].count()\n",
        "ventas_por_categoria_tienda2 = tienda2.groupby('Categoría del Producto')['Precio'].count()\n",
        "ventas_por_categoria_tienda3 = tienda3.groupby('Categoría del Producto')['Precio'].count()\n",
        "ventas_por_categoria_tienda4 = tienda4.groupby('Categoría del Producto')['Precio'].count()\n",
        "\n",
        "# Mostrar las categorías más populares de cada tienda\n",
        "print(\"Tienda 1 - Categorías más populares:\")\n",
        "print(ventas_por_categoria_tienda1.sort_values(ascending=False))\n",
        "print(\"\\nTienda 2 - Categorías más populares:\")\n",
        "print(ventas_por_categoria_tienda2.sort_values(ascending=False))\n",
        "print(\"\\nTienda 3 - Categorías más populares:\")\n",
        "print(ventas_por_categoria_tienda3.sort_values(ascending=False))\n",
        "print(\"\\nTienda 4 - Categorías más populares:\")\n",
        "print(ventas_por_categoria_tienda4.sort_values(ascending=False))\n"
      ]
    },
    {
      "cell_type": "code",
      "source": [],
      "metadata": {
        "id": "3mRLau33Qd3R"
      },
      "execution_count": null,
      "outputs": []
    },
    {
      "cell_type": "code",
      "execution_count": null,
      "metadata": {
        "id": "yZR6cOjXYSk1"
      },
      "outputs": [],
      "source": []
    },
    {
      "cell_type": "markdown",
      "metadata": {
        "id": "Rq6tU_xSY3jk"
      },
      "source": [
        "# 3. Calificación promedio de la tienda\n"
      ]
    },
    {
      "cell_type": "code",
      "execution_count": 38,
      "metadata": {
        "id": "bh3jjjJwY5MU",
        "colab": {
          "base_uri": "https://localhost:8080/"
        },
        "outputId": "30cb0197-dddf-4296-b4a6-44e4caf5a58c"
      },
      "outputs": [
        {
          "output_type": "stream",
          "name": "stdout",
          "text": [
            "Calificación promedio para tienda 1: 3.976685036032217\n",
            "Calificación promedio para tienda 2: 4.037303942348453\n",
            "Calificación promedio para tienda 3: 4.048325561678677\n",
            "Calificación promedio para tienda 4: 3.9957591178965224\n"
          ]
        }
      ],
      "source": [
        "#  Calcular la calificación promedio de los clientes por cada tienda\n",
        "\n",
        "promedio_calificacion_tienda1 = tienda['Calificación'].mean()\n",
        "promedio_calificacion_tienda2 = tienda2['Calificación'].mean()\n",
        "promedio_calificacion_tienda3 = tienda3['Calificación'].mean()\n",
        "promedio_calificacion_tienda4 = tienda4['Calificación'].mean()\n",
        "\n",
        "print(f\"Calificación promedio para tienda 1: {promedio_calificacion_tienda1}\")\n",
        "print(f\"Calificación promedio para tienda 2: {promedio_calificacion_tienda2}\")\n",
        "print(f\"Calificación promedio para tienda 3: {promedio_calificacion_tienda3}\")\n",
        "print(f\"Calificación promedio para tienda 4: {promedio_calificacion_tienda4}\")\n"
      ]
    },
    {
      "cell_type": "code",
      "execution_count": null,
      "metadata": {
        "id": "I0KkjPoTY88F"
      },
      "outputs": [],
      "source": []
    },
    {
      "cell_type": "markdown",
      "metadata": {
        "id": "DmNp1KPBZCm-"
      },
      "source": [
        "# 4. Productos más y menos vendidos"
      ]
    },
    {
      "cell_type": "code",
      "execution_count": 44,
      "metadata": {
        "id": "qoyjqijQZHfF",
        "colab": {
          "base_uri": "https://localhost:8080/"
        },
        "outputId": "257dbe33-0d66-4302-d610-18045dbe454e"
      },
      "outputs": [
        {
          "output_type": "stream",
          "name": "stdout",
          "text": [
            "Tienda 1: Producto más vendido - Armario, menos vendido - Auriculares con micrófono\n",
            "Tienda 2: Producto más vendido - Iniciando en programación, menos vendido - Juego de mesa\n",
            "Tienda 3: Producto más vendido - Kit de bancas, menos vendido - Bloques de construcción\n",
            "Tienda 4: Producto más vendido - Cama box, menos vendido - Guitarra eléctrica\n"
          ]
        }
      ],
      "source": [
        "# Que productos fueron los mas vendidos y los menos vendidos por cada tienda\n",
        "from matplotlib import pyplot as plt\n",
        "\n",
        "def productos_mas_menos_vendidos(tienda):\n",
        "    ventas_por_producto = tienda.groupby('Producto')['Precio'].count()\n",
        "    mas_vendido = ventas_por_producto.idxmax()\n",
        "    menos_vendido = ventas_por_producto.idxmin()\n",
        "    return mas_vendido, menos_vendido\n",
        "\n",
        "mas_vendido_t1, menos_vendido_t1 = productos_mas_menos_vendidos(tienda)\n",
        "mas_vendido_t2, menos_vendido_t2 = productos_mas_menos_vendidos(tienda2)\n",
        "mas_vendido_t3, menos_vendido_t3 = productos_mas_menos_vendidos(tienda3)\n",
        "mas_vendido_t4, menos_vendido_t4 = productos_mas_menos_vendidos(tienda4)\n",
        "\n",
        "print(f\"Tienda 1: Producto más vendido - {mas_vendido_t1}, menos vendido - {menos_vendido_t1}\")\n",
        "print(f\"Tienda 2: Producto más vendido - {mas_vendido_t2}, menos vendido - {menos_vendido_t2}\")\n",
        "print(f\"Tienda 3: Producto más vendido - {mas_vendido_t3}, menos vendido - {menos_vendido_t3}\")\n",
        "print(f\"Tienda 4: Producto más vendido - {mas_vendido_t4}, menos vendido - {menos_vendido_t4}\")"
      ]
    },
    {
      "cell_type": "code",
      "source": [
        "# prompt: Genera un diagrama de barras que muestre el producto mas vendido y el menos con su porcentaje\n",
        "\n",
        "import pandas as pd\n",
        "from matplotlib import pyplot as plt\n",
        "\n",
        "def productos_mas_menos_vendidos(tienda):\n",
        "    ventas_por_producto = tienda.groupby('Producto')['Precio'].count()\n",
        "    mas_vendido = ventas_por_producto.idxmax()\n",
        "    menos_vendido = ventas_por_producto.idxmin()\n",
        "    cantidad_mas_vendido = ventas_por_producto.max()\n",
        "    cantidad_menos_vendido = ventas_por_producto.min()\n",
        "    total_vendido = ventas_por_producto.sum()\n",
        "    porcentaje_mas_vendido = (cantidad_mas_vendido / total_vendido) * 100\n",
        "    porcentaje_menos_vendido = (cantidad_menos_vendido / total_vendido) * 100\n",
        "    return mas_vendido, menos_vendido, porcentaje_mas_vendido, porcentaje_menos_vendido\n",
        "\n",
        "# tienda 1\n",
        "mas_vendido_t1, menos_vendido_t1, porcentaje_mas_vendido_t1, porcentaje_menos_vendido_t1 = productos_mas_menos_vendidos(tienda)\n",
        "# tienda 2\n",
        "mas_vendido_t2, menos_vendido_t2, porcentaje_mas_vendido_t2, porcentaje_menos_vendido_t2 = productos_mas_menos_vendidos(tienda2)\n",
        "# tienda 3\n",
        "mas_vendido_t3, menos_vendido_t3, porcentaje_mas_vendido_t3, porcentaje_menos_vendido_t3 = productos_mas_menos_vendidos(tienda3)\n",
        "# tienda 4\n",
        "mas_vendido_t4, menos_vendido_t4, porcentaje_mas_vendido_t4, porcentaje_menos_vendido_t4 = productos_mas_menos_vendidos(tienda4)\n",
        "\n",
        "# Datos para el gráfico de barras\n",
        "productos = [mas_vendido_t1, menos_vendido_t1]\n",
        "porcentajes = [porcentaje_mas_vendido_t1, porcentaje_menos_vendido_t1]\n",
        "\n",
        "# Crear el gráfico de barras\n",
        "plt.figure(figsize=(8, 6))\n",
        "plt.bar(productos, porcentajes, color=['green', 'red'])\n",
        "plt.title('Porcentaje de ventas del producto más y menos vendido - Tienda 1')\n",
        "plt.xlabel('Producto')\n",
        "plt.ylabel('Porcentaje de Ventas')\n",
        "plt.show()\n",
        "\n",
        "productos2 = [mas_vendido_t2, menos_vendido_t2]\n",
        "porcentajes2 = [porcentaje_mas_vendido_t2, porcentaje_menos_vendido_t2]\n",
        "\n",
        "plt.figure(figsize=(8, 6))\n",
        "plt.bar(productos2, porcentajes2, color=['green', 'red'])\n",
        "plt.title('Porcentaje de ventas del producto más y menos vendido - Tienda 2')\n",
        "plt.xlabel('Producto')\n",
        "plt.ylabel('Porcentaje de Ventas')\n",
        "plt.show()\n",
        "\n",
        "productos3 = [mas_vendido_t3, menos_vendido_t3]\n",
        "porcentajes3 = [porcentaje_mas_vendido_t3, porcentaje_menos_vendido_t3]\n",
        "\n",
        "plt.figure(figsize=(8, 6))\n",
        "plt.bar(productos3, porcentajes3, color=['green', 'red'])\n",
        "plt.title('Porcentaje de ventas del producto más y menos vendido - Tienda 3')\n",
        "plt.xlabel('Producto')\n",
        "plt.ylabel('Porcentaje de Ventas')\n",
        "plt.show()\n",
        "\n",
        "productos4 = [mas_vendido_t4, menos_vendido_t4]\n",
        "porcentajes4 = [porcentaje_mas_vendido_t4, porcentaje_menos_vendido_t4]\n",
        "\n",
        "plt.figure(figsize=(8, 6))\n",
        "plt.bar(productos4, porcentajes4, color=['green', 'red'])\n",
        "plt.title('Porcentaje de ventas del producto más y menos vendido - Tienda 4')\n",
        "plt.xlabel('Producto')\n",
        "plt.ylabel('Porcentaje de Ventas')\n",
        "plt.show()\n"
      ],
      "metadata": {
        "id": "Zxjt5huWa0ZF",
        "outputId": "44dd2504-37d8-4de2-c004-e61594eff790",
        "colab": {
          "base_uri": "https://localhost:8080/",
          "height": 1000
        }
      },
      "execution_count": 64,
      "outputs": [
        {
          "output_type": "display_data",
          "data": {
            "text/plain": [
              "<Figure size 800x600 with 1 Axes>"
            ],
            "image/png": "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\n"
          },
          "metadata": {}
        },
        {
          "output_type": "display_data",
          "data": {
            "text/plain": [
              "<Figure size 800x600 with 1 Axes>"
            ],
            "image/png": "iVBORw0KGgoAAAANSUhEUgAAArMAAAIkCAYAAAANhKPgAAAAOnRFWHRTb2Z0d2FyZQBNYXRwbG90bGliIHZlcnNpb24zLjEwLjAsIGh0dHBzOi8vbWF0cGxvdGxpYi5vcmcvlHJYcgAAAAlwSFlzAAAPYQAAD2EBqD+naQAAXS1JREFUeJzt3XlUVVX/x/HPBWWQyRFBRVDBWXGepxwyNQtLUytBU8tHTc2prJ4Utax8VBocK7W0cigzK2czLTVTcyyHNKcSZwWhBIX9+6PF/XllkGsgnnq/1mIt7r77nPM9h3M3Hw77nmszxhgBAAAAFuSS1wUAAAAAt4swCwAAAMsizAIAAMCyCLMAAACwLMIsAAAALIswCwAAAMsizAIAAMCyCLMAAACwLMIsAOBvOXz4sMaMGaNDhw7ldSkA/oUIs7jrtGjRQi1atPjHbOffaMyYMbLZbLe1bM+ePRUSEpKzBeUSziEpKSlJXbp00ZEjR1S+fPm8Lgd3iYzGgJCQEPXs2fOWy86dO1c2m03Hjh3LneJywN8Z4/6ub775RjabTd98802ebP9uRJi9w9JepGlfHh4eKl++vAYOHKgzZ87kdXl/2+bNmzVmzBhdvnw5r0v51/jjjz80ZswYBrZ/oOXLl2vMmDF5XUaWhg4dqkKFCum9997L61KAvyUkJMTh93NmX3Pnzs3rUnPUgQMHNHLkSNWoUUM+Pj4KDAxUhw4dtH379rwuLdvy5XUB/1Zjx45VmTJldPXqVX333XeaPn26li9frn379qlAgQJ5Xd5t27x5s6Kjo9WzZ08VLFjwttaxevXqnC3qH+6PP/5QdHS0JP3rrxL+0yxfvlxTp069awPtxYsXFRAQoFdeeUVubm55XQ7ucgcPHpSLy917DS0mJkYJCQn2x8uXL9fHH3+sKVOmqGjRovb2Ro0a6fHHH9dzzz2XF2XmuHfffVfvvfeeHn74YfXv319xcXGaOXOmGjRooJUrV6p169Z5XeItEWbzSLt27VSnTh1JUp8+fVSkSBFNnjxZn3/+ubp3737b6zXG6OrVq/L09MypUu84fikityUmJsrLyyuvy7C8woUL67///W9elwGLcHd3z+sSshQREeHw+PTp0/r4448VERGR4dSnfPn+GRGqe/fuGjNmjLy9ve1tTzzxhCpVqqQxY8ZYIszevX8i/cu0bNlSknT06FFJ0vXr1zVu3DiVK1dO7u7uCgkJ0fPPP6+kpCSH5UJCQnT//fdr1apVqlOnjjw9PTVz5kxJ0uXLl/XMM88oJCRE7u7uKlWqlCIjI3X+/Hn78klJSRo9erRCQ0Pl7u6uoKAgjRw5Mt12bDabBg4cqKVLl6pq1apyd3dXlSpVtHLlSnufMWPGaMSIEZKkMmXK2P8lkzbvac6cOWrZsqX8/f3l7u6uypUra/r06emORUbzELNbZ2ZmzZqlcuXKydPTU/Xq1dO3336bYb/b3c7AgQPl7e2tP/74I91z3bt3V0BAgFJSUuxtK1asUNOmTeXl5SUfHx916NBBP/30k8NyPXv2lLe3t37//XdFRETI29tbxYoV0/Dhw+3rOnbsmIoVKyZJio6Oth/ztCt5e/bsUc+ePVW2bFl5eHgoICBATzzxhC5cuOCwrStXrmjIkCH2c8Xf319t2rTRjz/+mPWBlfTdd9+pbt268vDwULly5eznX0bmz5+v2rVry9PTU4ULF1a3bt108uTJW24jI2nn/urVq1WjRg15eHiocuXKWrJkiUO/tKk9GzZsUP/+/eXv769SpUrZn582bZqqVKkid3d3lShRQgMGDMhwmkx2zqHM5vplNsdt69atat++vQoVKiQvLy9Vr15db7zxhqS/fv5Tp06VJId/caZJTEzUsGHDFBQUJHd3d1WoUEH/+9//ZIy55bFr0aKFqlatqj179qh58+YqUKCAQkND9cknn0iSNmzYoPr168vT01MVKlTQ2rVrHZY/fvy4+vfvrwoVKsjT01NFihRRly5d0u33tWvXFB0drbCwMHl4eKhIkSJq0qSJ1qxZk2ltv/76q2w2m6ZMmZLuuc2bN8tms+njjz/OdPm0Y71o0SJFR0erZMmS8vHxUefOnRUXF6ekpCQNGTJE/v7+8vb2Vq9evTJ8fWfnXE07jj///LPuueceFShQQCVLltTrr7+ebn1nz55V7969Vbx4cXl4eCg8PFzvv/9+un4LFixQ7dq15ePjI19fX1WrVs1+TmTk2rVrKly4sHr16pXuufj4eHl4eGj48OH2tpwc89NkdwzIaM7sTz/9pJYtW8rT01OlSpXS+PHjlZqamuHy2X2t3gmZzZnN6fPmt99+U0REhLy8vOTv769nnnkmw/P122+/VZcuXVS6dGn7z/WZZ57Rn3/+ect9qV27tkOQlaQiRYqoadOm2r9//y2XvysY3FFz5swxksy2bdsc2t944w0jycyYMcMYY0xUVJSRZDp37mymTp1qIiMjjSQTERHhsFxwcLAJDQ01hQoVMs8995yZMWOGWb9+vbly5YqpWrWqcXV1NX379jXTp08348aNM3Xr1jU7d+40xhiTkpJi7r33XlOgQAEzZMgQM3PmTDNw4ECTL18+8+CDDzpsR5IJDw83gYGBZty4cSYmJsaULVvWFChQwJw/f94YY8zu3btN9+7djSQzZcoUM2/ePDNv3jyTkJBgjDGmbt26pmfPnmbKlCnmrbfeMvfee6+RZN5++22HbTVv3tw0b97c/tiZOjPy7rvvGkmmUaNG5s033zRDhgwxBQsWNGXLls2x7WzcuNFIMosWLXJoT0xMNF5eXmbAgAH2tg8++MDYbDZz3333mbfeesu89tprJiQkxBQsWNAcPXrU3i8qKsp4eHiYKlWqmCeeeMJMnz7dPPzww0aSmTZtmjHGmISEBDN9+nQjyXTq1Ml+zHfv3m2MMeZ///ufadq0qRk7dqyZNWuWGTx4sPH09DT16tUzqamp9m09+uijxs3NzQwdOtS8++675rXXXjMdO3Y08+fPz3K/9+zZYzw9PU3p0qXNhAkTzLhx40zx4sVN9erVzc3Dy/jx443NZjNdu3Y106ZNM9HR0aZo0aImJCTEXLp0yWG/g4ODs9yuMX+d++XLlzcFCxY0zz33nJk8ebKpVq2acXFxMatXr7b3S3vNVa5c2TRv3ty89dZb5tVXXzXGGDN69GgjybRu3dq89dZbZuDAgcbV1dXUrVvXJCcn29eR3XMobVs3/hyNMWb9+vVGklm/fr29bfXq1cbNzc0EBweb0aNHm+nTp5tBgwaZ1q1bG2OM2bx5s2nTpo2RZP+5zps3zxhjTGpqqmnZsqWx2WymT58+5u233zYdO3Y0ksyQIUNueeyaN29uSpQoYYKCgsyIESPMW2+9ZSpXrmxcXV3NggULTEBAgBkzZoyJiYkxJUuWNH5+fiY+Pt6+/OLFi0316tXNSy+9ZGbNmmVGjRpl/Pz8THBwsElMTLT3e/75543NZjN9+/Y177zzjpk0aZLp3r27/fhnpnHjxqZ27drp2vv37298fHwctnGztGNdo0YN07BhQ/Pmm2+aQYMGGZvNZrp162YeffRR065dOzN16lTTo0cPI8lER0c7rCO75+qNx3Hw4MFm2rRppmXLlkaSWb58ub3fH3/8YSpVqmTy589vnnnmGfPmm2+apk2bGkkmJibG3m/16tVGkmnVqpWZOnWqmTp1qhk4cKDp0qVLlsfriSeeMAULFjRJSUkO7e+//77D75ucHvONcW4MCA4ONlFRUfbHsbGxplixYqZQoUJmzJgxZuLEiSYsLMy+7I2vo+y+VnPSxIkTM3w931jPjXLjvClfvrzx8PAwI0eONDExMaZ27dr243PjePL000+b9u3bm1deecXMnDnT9O7d27i6uprOnTvf9v43atTIlC9f/raXv5MIs3dY2i+7tWvXmnPnzpmTJ0+aBQsWmCJFihhPT0/z22+/mV27dhlJpk+fPg7LDh8+3EgyX3/9tb0tODjYSDIrV6506PvSSy8ZSWbJkiXpakgLMfPmzTMuLi7m22+/dXh+xowZRpLZtGmTvU2ScXNzM4cPH7a37d6920gyb731lr0tqxf/H3/8ka6tbdu2pmzZsg5tN4dZZ+q8WXJysvH39zc1atRwGOhnzZplJOXYdlJTU03JkiXNww8/7NC+aNEiI8ls3LjRGGPMlStXTMGCBU3fvn0d+p0+fdr4+fk5tKf9QTN27FiHvjVr1nT4RX/u3DkjyYwePTpdXRkd848//tihJmOM8fPzcwjc2RUREWE8PDzM8ePH7W0///yzcXV1dRjojx07ZlxdXc3LL7/ssPzevXtNvnz5HNqdCbOSzKeffmpvi4uLM4GBgaZmzZr2trTXXJMmTcz169ft7WfPnjVubm7m3nvvNSkpKfb2t99+20gys2fPNsY4dw5lN8xev37dlClTxgQHBzv8kjPGOPyRMWDAgHS/MI0xZunSpUaSGT9+vEN7586djc1mc3idZqR58+ZGkvnoo4/sbQcOHDCSjIuLi/n+++/t7atWrTKSzJw5c+xtGYXJ7777zkgyH3zwgb0tPDzcdOjQIctaMjJz5kwjyezfv9/elpycbIoWLeoQhjKSdqyrVq3qEHK6d+9ubDabadeunUP/hg0bOpxvzpyracfxxn1OSkoyAQEBDmNBTEyMkeTwx2FycrJp2LCh8fb2tv+hMHjwYOPr6+twnmZH2s/oiy++cGhv3769w/iaG2N+dscAY9KH2SFDhhhJZuvWrfa2s2fPGj8/P4fXUXZfqznNmTCbm+fNjRdJEhMTTWhoaLowm9FYP2HCBGOz2Rx+Ntm1ceNGY7PZzH//+1+nl80LTDPII61bt1axYsUUFBSkbt26ydvbW5999plKliyp5cuXS/rrXcI3GjZsmCTpq6++cmgvU6aM2rZt69D26aefKjw8XJ06dUq37bR/jSxevFiVKlVSxYoVdf78eftX2pSH9evXp6u5XLly9sfVq1eXr6+vfv3112zt843zeOPi4nT+/Hk1b95cv/76q+Li4jJdztk6b7R9+3adPXtW/fr1c5iL27NnT/n5+eXYdmw2m7p06aLly5c7vIFg4cKFKlmypJo0aSJJWrNmjS5fvqzu3bs7bMPV1VX169fPcBv9+vVzeNy0adPbOuZXr17V+fPn1aBBA0lymEJQsGBBbd26VadOncrWeiUpJSVFq1atUkREhEqXLm1vr1SpUrrzccmSJUpNTdUjjzzisN8BAQEKCwvL8thmpUSJEg7nuK+vryIjI7Vz506dPn3aoW/fvn3l6upqf7x27VolJydryJAhDm9K6du3r3x9fe2vM2fOoezauXOnjh49qiFDhqR7o2R2bvezfPlyubq6atCgQQ7tw4YNkzFGK1asuOU6vL291a1bN/vjChUqqGDBgqpUqZLq169vb0/7/sZz7uY3qSYlJal27doqVKhQuvPqp59+0i+//HLLem70yCOPyMPDQx9++KG9bdWqVTp//rwef/zxbK0jMjJS+fPnd9gPY4yeeOIJh37169fXyZMndf36dUnOn6ve3t4ONbm5ualevXoOx2v58uUKCAhweD9E/vz5NWjQICUkJGjDhg2S/jpeiYmJWU7DyEjLli1VtGhRLVy40N526dIlrVmzRl27drW35fSY78wYkJHly5erQYMGqlevnr2tWLFieuyxxxz6Zfe1mpdy67wJDAxU586d7W0FChTQk08+mW77N471iYmJOn/+vBo1aiRjjHbu3OnUvpw9e1aPPvqoypQpo5EjRzq1bF75Z8xetqCpU6eqfPnyypcvn4oXL64KFSrYX6THjx+Xi4uLQkNDHZYJCAhQwYIFdfz4cYf2MmXKpFv/kSNH9PDDD2dZwy+//KL9+/fb51ze7OzZsw6Pbxys0hQqVEiXLl3KcjtpNm3apNGjR2vLli3p5pbGxcVlGgycrfNGaccqLCzMoT1//vwqW7Zsjm1Hkrp27aqYmBgtW7ZMjz76qBISErR8+XI99dRT9oCS9ks97ZfHzXx9fR0ee3h4pKvHmWN+8eJFRUdHa8GCBenqv/EPiNdff11RUVEKCgpS7dq11b59e0VGRqY7Rjc6d+6c/vzzz3THVvorGKX9USb9td/GmAz7SnIIHc4IDQ1NF/7S7nV67NgxBQQE2Ntvfp2knRsVKlRwaHdzc1PZsmXtzztzDmXXkSNHJElVq1a9reWPHz+uEiVKyMfHx6G9UqVK9udvpVSpUumOnZ+fn4KCgtK1SXI455KSkjR58mS9//77On78uK5evWp/7sbzauzYsXrwwQdVvnx5Va1aVffdd5969Oih6tWrZ1lbwYIF1bFjR3300UcaN26cJOnDDz9UyZIlM33t3Ozm8SptPzLav9TUVMXFxalIkSJOn6sZHcdChQppz5499sfHjx9XWFhYunfy3/zz6t+/vxYtWqR27dqpZMmSuvfee/XII4/ovvvuy3Jf8+XLp4cfflgfffSRkpKS5O7uriVLlujatWsOYTanx3xnxoCMHD9+3OEPpxuXvblfRu03v1YzkpycrIsXLzq0FStWzOEP25yQW+dNRmPczcdBkk6cOKGXXnpJy5YtS/f7IauLRTdLTEzU/fffrytXrui7775LN5f2bkWYzSP16tWz380gM9m9IfPt3rkgNTVV1apV0+TJkzN8/uZBP7MXv8nGG06OHDmiVq1aqWLFipo8ebKCgoLk5uam5cuXa8qUKZlO+L+dOm/X391OgwYNFBISokWLFunRRx/VF198oT///NPhl0nafs6bN88haKW5+d2xf3fAfeSRR7R582aNGDFCNWrUkLe3t1JTU3Xfffc5HPNHHnlETZs21WeffabVq1dr4sSJeu2117RkyRK1a9fub9Ug/bXfNptNK1asyHCf7sSAeSfu8JHZa/bGN//dLTI7t7LzOh88eLDee+89Pfvss2rSpIn8/Pxks9nUsWNHh/OqWbNmOnLkiD7//HOtXr1a7777rqZMmaIZM2aoT58+WdYXGRmpxYsXa/PmzapWrZqWLVum/v37Z/vWTre7f86eq39nXLyZv7+/du3apVWrVmnFihVasWKF5syZo8jIyAzfLHajbt26aebMmVqxYoUiIiK0aNEiVaxYUeHh4fY+d3LMv1ts3rxZ99xzj0Pb0aNHc/yDWfLyvElJSVGbNm108eJFPfvss6pYsaK8vLz0+++/q2fPnln+fr1RcnKyHnroIe3Zs0erVq267T+28wJh9i4UHBys1NRU/fLLL/a/3CXpzJkzunz5soKDg2+5jnLlymnfvn237LN79261atUqxz7JJLP1fPHFF0pKStKyZcsc/trPzr+X/06dacfql19+cbiic+3aNR09etRhoM+J4/HII4/ojTfeUHx8vBYuXKiQkBD7v/XTtiH99Usrp253klmtly5d0rp16xQdHa2XXnrJ3p7Zv3wDAwPVv39/9e/fX2fPnlWtWrX08ssvZxpmixUrJk9PzwzXd/DgQYfH5cqVkzFGZcqUydFPiTp8+LCMMQ7HIO0jVW/1yyrt3Dh48KDDFdbk5GQdPXrU/vNx5hwqVKiQJKV7h/XNV47SzoN9+/ZleR5k9rMNDg7W2rVrdeXKFYerswcOHHCoObcsXLhQPXv21Pjx4+1tf/75Z7orYJLs77Tv1auXEhIS1KxZM40ZM+aWYfa+++5TsWLF9OGHH6p+/fr6448/1KNHjxzfl5vlxrkaHBysPXv2KDU11SGMZ/TzcnNzU8eOHe1/GPTv318zZ87Uf//733T/rbtRs2bNFBgYqIULF6pJkyb6+uuv9cILL6Tbt5wc850ZAzISHBycrWWz+1rNSHh4eLppGxldSPi7cuu82bdvX7ox7ubjs3fvXh06dEjvv/++IiMj7e3OTFdJTU1VZGSk1q1bp0WLFql58+Z/fwfuIObM3oXat28v6a8bON8o7a/pDh063HIdDz/8sHbv3q3PPvss3XNpf/k98sgj+v333/XOO++k6/Pnn38qMTHR2dLt9+68+Zd52l+hN/7VGRcXpzlz5txynX+nzjp16qhYsWKaMWOGkpOT7e1z585NV2NOHI+uXbsqKSlJ77//vlauXKlHHnnE4fm2bdvK19dXr7zyiq5du5Zu+XPnzt1yGzdLm7+YnWMupT+vUlJS0v0byt/fXyVKlMjylmSurq5q27atli5dqhMnTtjb9+/fr1WrVjn0feihh+Tq6qro6Oh09Rhj0t0qLLtOnTrlcI7Hx8frgw8+UI0aNW75C6t169Zyc3PTm2++6VDTe++9p7i4OPvrzJlzKC2kbty40d6WkpKiWbNmOfSrVauWypQpo5iYmHTruLGWzF5P7du3V0pKit5++22H9ilTpshms+XI1fSs2Gy2dOdvTExMuitAN/9cvb29FRoamq1b6uXLl0/du3fXokWLNHfuXFWrVu2W0xNyQm6cq+3bt9fp06cd5rRev35db731lry9ve3B4eZ1u7i42Pf5VsfMxcVFnTt31hdffKF58+bp+vXrDv8VknJ+zHdmDMhI+/bt9f333+uHH36wt507d85hrrSU/ddqRgoVKqTWrVs7fHl4eDizm9mSW+fNqVOn7LfMk/76kJybx5OMxnpjTJa3dLvZ008/rYULF2ratGl66KGHnK41r3Fl9i4UHh6uqKgozZo1S5cvX1bz5s31ww8/6P3331dERES6f5lkZMSIEfrkk0/UpUsXPfHEE6pdu7YuXryoZcuWacaMGQoPD1ePHj20aNEi9evXT+vXr1fjxo2VkpKiAwcOaNGiRfZ71zqjdu3akqQXXnhB3bp1U/78+dWxY0fde++99isOTz31lBISEvTOO+/I399fsbGxWa7z79SZP39+jR8/Xk899ZRatmyprl276ujRo5ozZ066+Y45cTxq1aql0NBQvfDCC0pKSkr3y8TX11fTp09Xjx49VKtWLXXr1k3FihXTiRMn9NVXX6lx48bpAsqteHp6qnLlylq4cKHKly+vwoULq2rVqqpataqaNWum119/XdeuXVPJkiW1evVq+72M01y5ckWlSpVS586dFR4eLm9vb61du1bbtm3TpEmTstx2dHS0Vq5cqaZNm6p///72X9BVqlRxmPtVrlw5jR8/XqNGjdKxY8cUEREhHx8fHT16VJ999pmefPJJh3thZlf58uXVu3dvbdu2TcWLF9fs2bN15syZbP2RVKxYMY0aNUrR0dG677779MADD+jgwYOaNm2a6tata39zhjPnUJUqVdSgQQONGjVKFy9eVOHChbVgwQL7m4vSuLi4aPr06erYsaNq1KihXr16KTAwUAcOHNBPP/1kDwJpr6dBgwapbdu2cnV1Vbdu3dSxY0fdc889euGFF3Ts2DGFh4dr9erV+vzzzzVkyBCHN+3khg4dOmj+/Pn2N4xt3rxZ69evd/iUJEmqXLmyWrRoodq1a6tw4cLavn27PvnkEw0cODBb24mMjNSbb76p9evX67XXXsuNXUknN87VJ598UjNnzlTPnj21Y8cOhYSE6JNPPtGmTZsUExNjv7rep08fXbx4US1btlSpUqV0/PhxvfXWW6pRo4bDf+ky07VrV7311lsaPXq0qlWrlm6Z3BjzszsGZGTkyJGaN2+e7rvvPg0ePFheXl6aNWuW/Up2muy+VvNSbpw3ffv21dtvv63IyEjt2LFDgYGBmjdvXro3YFasWFHlypXT8OHD9fvvv8vX11effvpptt9bERMTo2nTpqlhw4YqUKCA5s+f7/B8p06d7v4PmbkDd0zADTK7z+zNrl27ZqKjo02ZMmVM/vz5TVBQkBk1apS5evWqQ7/g4OBMb31z4cIFM3DgQFOyZEnj5uZmSpUqZaKiohzuEZicnGxee+01U6VKFePu7m4KFSpkateubaKjo01cXJy9n6QMb910861WjDFm3LhxpmTJksbFxcXhtibLli0z1atXNx4eHiYkJMS89tprZvbs2elufXLzrbmcqTMz06ZNM2XKlDHu7u6mTp06ZuPGjbmyHWOMeeGFF4wkExoammmf9evXm7Zt2xo/Pz/j4eFhypUrZ3r27Gm2b99u7xMVFWW8vLzSLZvR/Q03b95sateubdzc3Bxu0/Xbb7+ZTp06mYIFCxo/Pz/TpUsXc+rUKYc+SUlJZsSIESY8PNz4+PgYLy8vEx4ebr+X7a1s2LDBvu2yZcuaGTNmZFijMcZ8+umnpkmTJsbLy8t4eXmZihUrmgEDBpiDBw867Hd2b83VoUMHs2rVKlO9enXj7u5uKlasaBYvXuzQ71avubfffttUrFjR5M+f3xQvXtz85z//SXe7LGOyfw4dOXLEtG7d2ri7u5vixYub559/3qxZsybdrXSM+et2Vm3atLEf9+rVqzvc9uj69evm6aefNsWKFTM2m83hmF65csU888wzpkSJEiZ//vwmLCzMTJw40eHWXplp3ry5qVKlSrr2zMaTm1//Fy9eNFFRUaZo0aLG29vbtG/f3hw6dCjdeDB+/HhTr149U7BgQePp6WkqVqxoXn75ZafuC1qlShXj4uJifvvtt2z1T7s1V3bPg7Rz9dy5cw7t2TlXMzuOGZ3DZ86cMb169TJFixY1bm5uplq1ag63OzPGmE8++cTce++9xt/f37i5uZnSpUubp556ysTGxmZr31NTU01QUFCGt21LkxtjfnbHgIyW3bNnj2nevLnx8PAwJUuWNOPGjTPvvfdehrfEyu5rNac4e59ZY3L+vDl+/Lh54IEHTIECBUzRokXN4MGDzcqVK9ONJz///LNp3bq18fb2NkWLFjV9+/a130rt5vMso+1KyvQro/2/29iMsdBMbvwrNG3aVO7u7uk+dQi4UUhIiKpWraovv/wyr0tBLqpZs6YKFy6sdevW5XUpAO5SzJnFXSc2NjbdvysB/Pts375du3btcnhTCwDcjDmzuGts3rxZS5Ys0ZEjR/Tss8/mdTkA8si+ffu0Y8cOTZo0SYGBgenmngPAjbgyi7vGO++8o/nz52vIkCHq1atXXpcDII988skn6tWrl65du6aPP/44V959DuCfgzmzAAAAsCyuzAIAAMCyCLMAAACwrH/dG8BSU1N16tQp+fj45NhHuAIAACDnGGN05coVlShRwuFjoDPyrwuzp06dUlBQUF6XAQAAgFs4efKkSpUqlWWff12YTfvYwJMnT8rX1zePqwEAAMDN4uPjFRQUZM9tWfnXhdm0qQW+vr6EWQAAgLtYdqaE8gYwAAAAWBZhFgAAAJZFmAUAAIBlEWYBAABgWYRZAAAAWBZhFgAAAJZFmAUAAIBlEWYBAABgWYRZAAAAWBZhFgAAAJZFmAUAAIBlEWYBAABgWYRZAAAAWBZhFgAAAJZFmAUAAIBlEWYBAABgWYRZAAAAWBZhFgAAAJZFmAUAAIBl5cvrAv4NbNG2vC4BwB1gRpu8LgEA/nW4MgsAAADLIswCAADAsgizAAAAsCzCLAAAACyLMAsAAADLIswCAADAsgizAAAAsCzCLAAAACyLMAsAAADLIswCAADAsgizAAAAsCzCLAAAACyLMAsAAADLIswCAADAsgizAAAAsCzCLAAAACyLMAsAAADLIswCAADAsgizAAAAsCzCLAAAACyLMAsAAADLIswCAADAsgizAAAAsCzCLAAAACyLMAsAAADLIswCAADAsgizAAAAsCzCLAAAACyLMAsAAADLIswCAADAsgizAAAAsCzCLAAAACyLMAsAAADLIswCAADAsgizAAAAsCzCLAAAACwrT8PshAkTVLduXfn4+Mjf318RERE6ePBglsvMnTtXNpvN4cvDw+MOVQwAAIC7SZ6G2Q0bNmjAgAH6/vvvtWbNGl27dk333nuvEhMTs1zO19dXsbGx9q/jx4/foYoBAABwN8mXlxtfuXKlw+O5c+fK399fO3bsULNmzTJdzmazKSAgILfLAwAAwF3urpozGxcXJ0kqXLhwlv0SEhIUHBysoKAgPfjgg/rpp58y7ZuUlKT4+HiHLwAAAPwz3DVhNjU1VUOGDFHjxo1VtWrVTPtVqFBBs2fP1ueff6758+crNTVVjRo10m+//ZZh/wkTJsjPz8/+FRQUlFu7AAAAgDvMZowxeV2EJP3nP//RihUr9N1336lUqVLZXu7atWuqVKmSunfvrnHjxqV7PikpSUlJSfbH8fHxCgoKUlxcnHx9fXOk9luxRdvuyHYA5C0z+q4YTgHA8uLj4+Xn55etvJanc2bTDBw4UF9++aU2btzoVJCVpPz586tmzZo6fPhwhs+7u7vL3d09J8oEAADAXSZPpxkYYzRw4EB99tln+vrrr1WmTBmn15GSkqK9e/cqMDAwFyoEAADA3SxPr8wOGDBAH330kT7//HP5+Pjo9OnTkiQ/Pz95enpKkiIjI1WyZElNmDBBkjR27Fg1aNBAoaGhunz5siZOnKjjx4+rT58+ebYfAAAAyBt5GmanT58uSWrRooVD+5w5c9SzZ09J0okTJ+Ti8v8XkC9duqS+ffvq9OnTKlSokGrXrq3NmzercuXKd6psAAAA3CXumjeA3SnOTCjOKbwBDPh34A1gAJAznMlrd82tuQAAAABnEWYBAABgWYRZAAAAWBZhFgAAAJZFmAUAAIBlEWYBAABgWYRZAAAAWBZhFgAAAJZFmAUAAIBlEWYBAABgWYRZAAAAWBZhFgAAAJZFmAUAAIBlEWYBAABgWYRZAAAAWBZhFgAAAJZFmAUAAIBlEWYBAABgWYRZAAAAWBZhFgAAAJZFmAUAAIBlEWYBAABgWYRZAAAAWBZhFgAAAJZFmAUAAIBlEWYBAABgWYRZAAAAWBZhFgAAAJZFmAUAAIBlEWYBAABgWYRZAAAAWBZhFgAAAJZFmAUAAIBlEWYBAABgWYRZAAAAWBZhFgAAAJZFmAUAAIBlEWYBAABgWYRZAAAAWBZhFgAAAJZFmAUAAIBlEWYBAABgWYRZAAAAWBZhFgAAAJZFmAUAAIBlEWYBAABgWYRZAAAAWBZhFgAAAJZFmAUAAIBlEWYBAABgWYRZAAAAWBZhFgAAAJZFmAUAAIBlEWYBAABgWYRZAAAAWBZhFgAAAJZFmAUAAIBlEWYBAABgWYRZAAAAWBZhFgAAAJZFmAUAAIBlEWYBAABgWYRZAAAAWBZhFgAAAJZFmAUAAIBlEWYBAABgWYRZAAAAWBZhFgAAAJZFmAUAAIBl5WmYnTBhgurWrSsfHx/5+/srIiJCBw8evOVyixcvVsWKFeXh4aFq1app+fLld6BaAAAA3G3yNMxu2LBBAwYM0Pfff681a9bo2rVruvfee5WYmJjpMps3b1b37t3Vu3dv7dy5UxEREYqIiNC+ffvuYOUAAAC4G9iMMSavi0hz7tw5+fv7a8OGDWrWrFmGfbp27arExER9+eWX9rYGDRqoRo0amjFjxi23ER8fLz8/P8XFxcnX1zfHas+KLdp2R7YDIG+Z0XfNcAoAluZMXrur5szGxcVJkgoXLpxpny1btqh169YObW3bttWWLVsy7J+UlKT4+HiHLwAAAPwz3DVhNjU1VUOGDFHjxo1VtWrVTPudPn1axYsXd2grXry4Tp8+nWH/CRMmyM/Pz/4VFBSUo3UDAAAg79w1YXbAgAHat2+fFixYkKPrHTVqlOLi4uxfJ0+ezNH1AwAAIO/ky+sCJGngwIH68ssvtXHjRpUqVSrLvgEBATpz5oxD25kzZxQQEJBhf3d3d7m7u+dYrQAAALh75OmVWWOMBg4cqM8++0xff/21ypQpc8tlGjZsqHXr1jm0rVmzRg0bNsytMgEAAHCXytMrswMGDNBHH32kzz//XD4+PvZ5r35+fvL09JQkRUZGqmTJkpowYYIkafDgwWrevLkmTZqkDh06aMGCBdq+fbtmzZqVZ/sBAACAvJGnV2anT5+uuLg4tWjRQoGBgfavhQsX2vucOHFCsbGx9seNGjXSRx99pFmzZik8PFyffPKJli5dmuWbxgAAAPDPdFfdZ/ZO4D6zAHIL95kFgJxh2fvMAgAAAM4gzAIAAMCyCLMAAACwLMIsAAAALIswCwAAAMsizAIAAMCyCLMAAACwLMIsAAAALIswCwAAAMsizAIAAMCynA6zP/74o/bu3Wt//PnnnysiIkLPP/+8kpOTc7Q4AAAAICtOh9mnnnpKhw4dkiT9+uuv6tatmwoUKKDFixdr5MiROV4gAAAAkBmnw+yhQ4dUo0YNSdLixYvVrFkzffTRR5o7d64+/fTTnK4PAAAAyJTTYdYYo9TUVEnS2rVr1b59e0lSUFCQzp8/n7PVAQAAAFlwOszWqVNH48eP17x587RhwwZ16NBBknT06FEVL148xwsEAAAAMuN0mI2JidGPP/6ogQMH6oUXXlBoaKgk6ZNPPlGjRo1yvEAAAAAgM/mcXaB69eoOdzNIM3HiRLm6uuZIUQAAAEB2OB1mM+Ph4ZFTqwIAAACyxekwm5KSoilTpmjRokU6ceJEunvLXrx4MceKAwAAALLi9JzZ6OhoTZ48WV27dlVcXJyGDh2qhx56SC4uLhozZkwulAgAAABkzOkw++GHH+qdd97RsGHDlC9fPnXv3l3vvvuuXnrpJX3//fe5USMAAACQIafD7OnTp1WtWjVJkre3t+Li4iRJ999/v7766qucrQ4AAADIgtNhtlSpUoqNjZUklStXTqtXr5Ykbdu2Te7u7jlbHQAAAJAFp8Nsp06dtG7dOknS008/rf/+978KCwtTZGSknnjiiRwvEAAAAMiM03czePXVV+3fd+3aVcHBwdq8ebPCwsLUsWPHHC0OAAAAyIrTYXbjxo1q1KiR8uX7a9EGDRqoQYMGun79ujZu3KhmzZrleJEAAABARpyeZnDPPfdkeC/ZuLg43XPPPTlSFAAAAJAdTodZY4xsNlu69gsXLsjLyytHigIAAACyI9vTDB566CFJks1mU8+ePR3uXJCSkqI9e/aoUaNGOV8hAAAAkIlsh1k/Pz9Jf12Z9fHxkaenp/05Nzc3NWjQQH379s35CgEAAIBMZDvMzpkzR5IUEhKi4cOHM6UAAAAAec7puxmMHj06N+oAAAAAnOb0G8DOnDmjHj16qESJEsqXL59cXV0dvgAAAIA7xekrsz179tSJEyf03//+V4GBgRne2QAAAAC4E5wOs999952+/fZb1ahRIxfKAQAAALLP6WkGQUFBMsbkRi0AAACAU5wOszExMXruued07NixXCgHAAAAyD6npxl07dpVf/zxh8qVK6cCBQoof/78Ds9n9FG3AAAAQG5wOszGxMTkQhkAAACA85wOs1FRUblRBwAAAOA0p+fMStKRI0f04osvqnv37jp79qwkacWKFfrpp59ytDgAAAAgK06H2Q0bNqhatWraunWrlixZooSEBEnS7t27+XQwAAAA3FFOh9nnnntO48eP15o1a+Tm5mZvb9mypb7//vscLQ4AAADIitNhdu/everUqVO6dn9/f50/fz5HigIAAACyw+kwW7BgQcXGxqZr37lzp0qWLJkjRQEAAADZ4XSY7datm5599lmdPn1aNptNqamp2rRpk4YPH67IyMjcqBEAAADIkNNh9pVXXlHFihUVFBSkhIQEVa5cWc2aNVOjRo304osv5kaNAAAAQIayHWY7d+6slStXKn/+/HrnnXf066+/6ssvv9T8+fN14MABzZs3T66urrlZKwAAAOAg2x+acOnSJXXo0EElSpRQr1691KtXL7Vv3z43awMAAACylO0rs+vWrdOvv/6q3r17a/78+QoNDVXLli310UcfKSkpKTdrBAAAADLk1JzZ4OBgjRkzRr/++qvWrFmjEiVKqG/fvgoMDNSAAQO0Y8eO3KoTAAAASOe2Ps5W+utDEubPn6/Tp09rwoQJWrBggerXr5+TtQEAAABZyvac2YwcPXpUc+fO1dy5cxUXF6fWrVvnVF0AAADALTl9Zfbq1auaP3++WrZsqbCwMH3wwQfq3bu3jh49qpUrV+ZGjQAAAECGsn1l9ocfftDs2bO1cOFCXb16VZ06ddLKlSvVqlUr2Wy23KwRAAAAyFC2w2yDBg0UHh6ucePG6bHHHlOhQoVysy4AAADglrIdZrdv365atWrlZi0AAACAU7I9Z5YgCwAAgLvNbd+aCwAAAMhrhFkAAABYFmEWAAAAlnVbYfb69etau3atZs6cqStXrkiSTp06pYSEhBwtDgAAAMiK058Advz4cd133306ceKEkpKS1KZNG/n4+Oi1115TUlKSZsyYkRt1AgAAAOk4fWV28ODBqlOnji5duiRPT097e6dOnbRu3bocLQ4AAADIitNXZr/99ltt3rxZbm5uDu0hISH6/fffc6wwAAAA4FacvjKbmpqqlJSUdO2//fabfHx8cqQoAAAAIDucDrP33nuvYmJi7I9tNpsSEhI0evRotW/fPidrAwAAALLk9DSDSZMmqW3btqpcubKuXr2qRx99VL/88ouKFi2qjz/+ODdqBAAAADLkdJgtVaqUdu/erQULFmjPnj1KSEhQ79699dhjjzm8IQwAAADIbU6HWUnKly+fHn/88b+98Y0bN2rixInasWOHYmNj9dlnnykiIiLT/t98843uueeedO2xsbEKCAj42/UAAADAWrIVZpctW5btFT7wwAPZ7puYmKjw8HA98cQTeuihh7K93MGDB+Xr62t/7O/vn+1lAQAA8M+RrTB789VSm80mY0y6NkkZ3ukgM+3atVO7du2y3T+Nv7+/ChYs6PRyAAAA+GfJ1t0MUlNT7V+rV69WjRo1tGLFCl2+fFmXL1/WihUrVKtWLa1cuTK365Uk1ahRQ4GBgWrTpo02bdqUZd+kpCTFx8c7fAEAAOCfwek5s0OGDNGMGTPUpEkTe1vbtm1VoEABPfnkk9q/f3+OFnijwMBAzZgxQ3Xq1FFSUpLeffddtWjRQlu3blWtWrUyXGbChAmKjo7OtZoAAACQd5wOs0eOHMnwX/x+fn46duxYDpSUuQoVKqhChQr2x40aNdKRI0c0ZcoUzZs3L8NlRo0apaFDh9ofx8fHKygoKFfrBAAAwJ3h9Icm1K1bV0OHDtWZM2fsbWfOnNGIESNUr169HC0uO+rVq6fDhw9n+ry7u7t8fX0dvgAAAPDP4HSYnT17tmJjY1W6dGmFhoYqNDRUpUuX1u+//6733nsvN2rM0q5duxQYGHjHtwsAAIC85/Q0g9DQUO3Zs0dr1qzRgQMHJEmVKlVS69at7Xc0yK6EhASHq6pHjx7Vrl27VLhwYZUuXVqjRo3S77//rg8++ECSFBMTozJlyqhKlSq6evWq3n33XX399ddavXq1s7sBAACAf4Db+tAEm82me++9V/fee+/f2vj27dsdPgQhbW5rVFSU5s6dq9jYWJ04ccL+fHJysoYNG6bff/9dBQoUUPXq1bV27doMP0gBAAAA/3w2c/MNY//h4uPj5efnp7i4uDs2f9YW7dwVawDWZEb/q4ZTAMg1zuQ1p+fMAgAAAHcLwiwAAAAsizALAAAAy7qtMHvkyBG9+OKL6t69u86ePStJWrFihX766accLQ4AAADIitNhdsOGDapWrZq2bt2qJUuWKCEhQZK0e/dujR49OscLBAAAADLjdJh97rnnNH78eK1Zs0Zubm729pYtW+r777/P0eIAAACArDgdZvfu3atOnTqla/f399f58+dzpCgAAAAgO5wOswULFlRsbGy69p07d6pkyZI5UhQAAACQHU6H2W7duunZZ5/V6dOnZbPZlJqaqk2bNmn48OGKjIzMjRoBAACADDkdZl955RVVrFhRQUFBSkhIUOXKldWsWTM1atRIL774Ym7UCAAAAGQon7MLuLm56Z133tF///tf7du3TwkJCapZs6bCwsJyoz4AAAAgU06H2TSlS5dW6dKlc7IWAAAAwCnZCrNDhw7VuHHj5OXlpaFDh2bZ19vbW1WqVFHnzp3l6uqaI0UCAAAAGclWmN25c6euXbtm/z4rSUlJeuONN7R8+XK9//77f79CAAAAIBPZCrPr16/P8PvMbN++Xa1atbr9qgAAAIBscPpuBtlRvXp1ffDBB7mxagAAAMDutt4A9ttvv2nZsmU6ceKEkpOTHZ6bPHmy3Nzc9OCDD+ZIgQAAC7DZ8roCALnNmLyuIENOh9l169bpgQceUNmyZXXgwAFVrVpVx44dkzFGtWrVyo0aAQAAgAw5Pc1g1KhRGj58uPbu3SsPDw99+umnOnnypJo3b64uXbrkRo0AAABAhpwOs/v377d/bG2+fPn0559/ytvbW2PHjtVrr72W4wUCAAAAmXE6zHp5ednnyQYGBurIkSP2586fP59zlQEAAAC34PSc2QYNGui7775TpUqV1L59ew0bNkx79+7VkiVL1KBBg9yoEQAAAMiQ02F28uTJSkhIkCRFR0crISFBCxcuVFhYmCZPnpzjBQIAAACZcTrMli1b1v69l5eXZsyYkaMFAQAAANnl9JzZsmXL6sKFC+naL1++7BB0AQAAgNzmdJg9duyYUlJS0rUnJSXp999/z5GiAAAAgOzI9jSDZcuW2b9ftWqV/Pz87I9TUlK0bt06hYSE5GhxAAAAQFayHWYjIiIkSTabTVFRUQ7P5c+fXyEhIZo0aVKOFgcAAABkJdthNjU1VZJUpkwZbdu2TUWLFs21ogAAAIDscPpuBkePHs2NOgAAAACnOR1mJWndunVat26dzp49a79im2b27Nk5UhgAAABwK06H2ejoaI0dO1Z16tRRYGCgbDZbbtQFAAAA3JLTYXbGjBmaO3euevTokRv1AAAAANnm9H1mk5OT1ahRo9yoBQAAAHCK02G2T58++uijj3KjFgAAAMApTk8zuHr1qmbNmqW1a9eqevXqyp8/v8PzkydPzrHiAAAAgKw4HWb37NmjGjVqSJL27dvn8BxvBgMAAMCd5HSYXb9+fW7UAQAAADjN6TmzaQ4fPqxVq1bpzz//lCQZY3KsKAAAACA7nA6zFy5cUKtWrVS+fHm1b99esbGxkqTevXtr2LBhOV4gAAAAkBmnw+wzzzyj/Pnz68SJEypQoIC9vWvXrlq5cmWOFgcAAABkxek5s6tXr9aqVatUqlQph/awsDAdP348xwoDAAAAbsXpK7OJiYkOV2TTXLx4Ue7u7jlSFAAAAJAdTofZpk2b6oMPPrA/ttlsSk1N1euvv6577rknR4sDAAAAsuL0NIPXX39drVq10vbt25WcnKyRI0fqp59+0sWLF7Vp06bcqBEAAADIkNNXZqtWrapDhw6pSZMmevDBB5WYmKiHHnpIO3fuVLly5XKjRgAAACBDTl+ZlSQ/Pz+98MILOV0LAAAA4BSnr8zOmTNHixcvTte+ePFivf/++zlSFAAAAJAdTofZCRMmqGjRouna/f399corr+RIUQAAAEB2OB1mT5w4oTJlyqRrDw4O1okTJ3KkKAAAACA7nA6z/v7+2rNnT7r23bt3q0iRIjlSFAAAAJAdTofZ7t27a9CgQVq/fr1SUlKUkpKir7/+WoMHD1a3bt1yo0YAAAAgQ07fzWDcuHE6duyYWrVqpXz5/lo8NTVVkZGRzJkFAADAHeVUmDXG6PTp05o7d67Gjx+vXbt2ydPTU9WqVVNwcHBu1QgAAABkyOkwGxoaqp9++klhYWEKCwvLrboAAACAW3JqzqyLi4vCwsJ04cKF3KoHAAAAyDan3wD26quvasSIEdq3b19u1AMAAABkm9NvAIuMjNQff/yh8PBwubm5ydPT0+H5ixcv5lhxAAAAQFacDrMxMTG5UAYAAADgPKfDbFRUVG7UAQAAADjN6TArSSkpKVq6dKn2798vSapSpYoeeOABubq65mhxAAAAQFacDrOHDx9W+/bt9fvvv6tChQqSpAkTJigoKEhfffWVypUrl+NFAgAAABlx+m4GgwYNUrly5XTy5En9+OOP+vHHH3XixAmVKVNGgwYNyo0aAQAAgAw5fWV2w4YN+v7771W4cGF7W5EiRfTqq6+qcePGOVocAAAAkBWnr8y6u7vrypUr6doTEhLk5uaWI0UBAAAA2eF0mL3//vv15JNPauvWrTLGyBij77//Xv369dMDDzyQGzUCAAAAGXI6zL755psqV66cGjZsKA8PD3l4eKhx48YKDQ3VG2+8kRs1AgAAABlyes5swYIF9fnnn+vw4cP2W3NVqlRJoaGhOV4cAAAAkJVsh9nU1FRNnDhRy5YtU3Jyslq1aqXRo0en+zhbAAAA4E7J9jSDl19+Wc8//7y8vb1VsmRJvfHGGxowYMDf2vjGjRvVsWNHlShRQjabTUuXLr3lMt98841q1aold3d3hYaGau7cuX+rBgAAAFhXtsPsBx98oGnTpmnVqlVaunSpvvjiC3344YdKTU297Y0nJiYqPDxcU6dOzVb/o0ePqkOHDrrnnnu0a9cuDRkyRH369NGqVatuuwYAAABYV7anGZw4cULt27e3P27durVsNptOnTqlUqVK3dbG27Vrp3bt2mW7/4wZM1SmTBlNmjRJ0l9zdb/77jtNmTJFbdu2va0aAAAAYF3ZvjJ7/fp1eXh4OLTlz59f165dy/GiMrNlyxa1bt3aoa1t27basmVLpsskJSUpPj7e4QsAAAD/DNm+MmuMUc+ePeXu7m5vu3r1qvr16ycvLy9725IlS3K2whucPn1axYsXd2grXry44uPj9eeff2b4ZrQJEyYoOjo612oCAABA3sl2mI2KikrX9vjjj+doMblh1KhRGjp0qP1xfHy8goKC8rAiAAAA5JRsh9k5c+bkZh3ZEhAQoDNnzji0nTlzRr6+vpneIszd3d3hajIAAAD+OZz+BLC81LBhQ61bt86hbc2aNWrYsGEeVQQAAIC8lKdhNiEhQbt27dKuXbsk/XXrrV27dunEiROS/poiEBkZae/fr18//frrrxo5cqQOHDigadOmadGiRXrmmWfyonwAAADksTwNs9u3b1fNmjVVs2ZNSdLQoUNVs2ZNvfTSS5Kk2NhYe7CVpDJlyuirr77SmjVrFB4erkmTJundd9/ltlwAAAD/UjZjjMnrIu6k+Ph4+fn5KS4uTr6+vndkm7Zo2x3ZDoC8ZUb/q4ZTRzbGOeAf7w5GRmfymqXmzAIAAAA3IswCAADAsgizAAAAsCzCLAAAACyLMAsAAADLIswCAADAsgizAAAAsCzCLAAAACyLMAsAAADLIswCAADAsgizAAAAsCzCLAAAACyLMAsAAADLIswCAADAsgizAAAAsCzCLAAAACyLMAsAAADLIswCAADAsgizAAAAsCzCLAAAACyLMAsAAADLIswCAADAsgizAAAAsCzCLAAAACyLMAsAAADLIswCAADAsgizAAAAsCzCLAAAACyLMAsAAADLIswCAADAsgizAAAAsCzCLAAAACyLMAsAAADLIswCAADAsgizAAAAsCzCLAAAACyLMAsAAADLIswCAADAsgizAAAAsCzCLAAAACyLMAsAAADLIswCAADAsgizAAAAsCzCLAAAACyLMAsAAADLIswCAADAsgizAAAAsCzCLAAAACyLMAsAAADLIswCAADAsgizAAAAsCzCLAAAACyLMAsAAADLIswCAADAsgizAAAAsCzCLAAAACyLMAsAAADLIswCAADAsgizAAAAsCzCLAAAACyLMAsAAADLIswCAADAsgizAAAAsCzCLAAAACyLMAsAAADLIswCAADAsgizAAAAsCzCLAAAACzrrgizU6dOVUhIiDw8PFS/fn398MMPmfadO3eubDabw5eHh8cdrBYAAAB3izwPswsXLtTQoUM1evRo/fjjjwoPD1fbtm119uzZTJfx9fVVbGys/ev48eN3sGIAAADcLfI8zE6ePFl9+/ZVr169VLlyZc2YMUMFChTQ7NmzM13GZrMpICDA/lW8ePE7WDEAAADuFnkaZpOTk7Vjxw61bt3a3ubi4qLWrVtry5YtmS6XkJCg4OBgBQUF6cEHH9RPP/2Uad+kpCTFx8c7fAEAAOCfIU/D7Pnz55WSkpLuymrx4sV1+vTpDJepUKGCZs+erc8//1zz589XamqqGjVqpN9++y3D/hMmTJCfn5/9KygoKMf3AwAAAHkjz6cZOKthw4aKjIxUjRo11Lx5cy1ZskTFihXTzJkzM+w/atQoxcXF2b9Onjx5hysGAABAbsmXlxsvWrSoXF1ddebMGYf2M2fOKCAgIFvryJ8/v2rWrKnDhw9n+Ly7u7vc3d3/dq0AAAC4++TplVk3NzfVrl1b69ats7elpqZq3bp1atiwYbbWkZKSor179yowMDC3ygQAAMBdKk+vzErS0KFDFRUVpTp16qhevXqKiYlRYmKievXqJUmKjIxUyZIlNWHCBEnS2LFj1aBBA4WGhury5cuaOHGijh8/rj59+uTlbgAAACAP5HmY7dq1q86dO6eXXnpJp0+fVo0aNbRy5Ur7m8JOnDghF5f/v4B86dIl9e3bV6dPn1ahQoVUu3Ztbd68WZUrV86rXQAAAEAesRljTF4XcSfFx8fLz89PcXFx8vX1vSPbtEXb7sh2AOQtM/pfNZw6sjHOAf94dzAyOpPXLHc3AwAAACANYRYAAACWRZgFAACAZRFmAQAAYFmEWQAAAFgWYRYAAACWRZgFAACAZRFmAQAAYFmEWQAAAFgWYRYAAACWRZgFAACAZRFmAQAAYFmEWQAAAFgWYRYAAACWRZgFAACAZRFmAQAAYFmEWQAAAFgWYRYAAACWRZgFAACAZRFmAQAAYFmEWQAAAFgWYRYAAACWRZgFAACAZRFmAQAAYFmEWQAAAFgWYRYAAACWRZgFAACAZRFmAQAAYFmEWQAAAFgWYRYAAACWRZgFAACAZRFmAQAAYFmEWQAAAFgWYRYAAACWRZgFAACAZRFmAQAAYFmEWQAAAFgWYRYAAACWRZgFAACAZRFmAQAAYFmEWQAAAFgWYRYAAACWRZgFAACAZRFmAQAAYFmEWQAAAFgWYRYAAACWRZgFAACAZRFmAQAAYFmEWQAAAFgWYRYAAACWRZgFAACAZRFmAQAAYFmEWQAAAFgWYRYAAACWRZgFAACAZRFmAQAAYFmEWQAAAFgWYRYAAACWRZgFAACAZRFmAQAAYFmEWQAAAFgWYRYAAACWRZgFAACAZRFmAQAAYFmEWQAAAFgWYRYAAACWRZgFAACAZRFmAQAAYFmEWQAAAFjWXRFmp06dqpCQEHl4eKh+/fr64Ycfsuy/ePFiVaxYUR4eHqpWrZqWL19+hyoFAADA3STPw+zChQs1dOhQjR49Wj/++KPCw8PVtm1bnT17NsP+mzdvVvfu3dW7d2/t3LlTERERioiI0L59++5w5QAAAMhrNmOMycsC6tevr7p16+rtt9+WJKWmpiooKEhPP/20nnvuuXT9u3btqsTERH355Zf2tgYNGqhGjRqaMWPGLbcXHx8vPz8/xcXFydfXN+d2JAu2aNsd2Q6AvGVG5+lwmrdsjHPAP94djIzO5LV8d6imDCUnJ2vHjh0aNWqUvc3FxUWtW7fWli1bMlxmy5YtGjp0qENb27ZttXTp0gz7JyUlKSkpyf44Li5O0l8H6Y65euc2BSDv3NFxBQDutDs4xqWNp9m55pqnYfb8+fNKSUlR8eLFHdqLFy+uAwcOZLjM6dOnM+x/+vTpDPtPmDBB0dHR6dqDgoJus2oAyJjfq355XQIA5B6/Oz/GXblyRX632G6ehtk7YdSoUQ5XclNTU3Xx4kUVKVJENv4thlwSHx+voKAgnTx58o5NZwGAO4UxDrnNGKMrV66oRIkSt+ybp2G2aNGicnV11ZkzZxzaz5w5o4CAgAyXCQgIcKq/u7u73N3dHdoKFix4+0UDTvD19WWgB/CPxRiH3HSrK7Jp8vRuBm5ubqpdu7bWrVtnb0tNTdW6devUsGHDDJdp2LChQ39JWrNmTab9AQAA8M+V59MMhg4dqqioKNWpU0f16tVTTEyMEhMT1atXL0lSZGSkSpYsqQkTJkiSBg8erObNm2vSpEnq0KGDFixYoO3bt2vWrFl5uRsAAADIA3keZrt27apz587ppZde0unTp1WjRg2tXLnS/iavEydOyMXl/y8gN2rUSB999JFefPFFPf/88woLC9PSpUtVtWrVvNoFIB13d3eNHj063RQXAPgnYIzD3STP7zMLAAAA3K48/wQwAAAA4HYRZgEAAGBZhFkAAABYFmEWwF1p+/btmjJlilJTU/O6FADAXYwwiyzZbDYtXbo0W33HjBmjGjVq5Go9kvTNN9/IZrPp8uXLub4t5K7Mzq9z586pS5cuqlq1qsPdTADkrRYtWmjIkCF5XQbgIM9vzYU7p2fPnrp8+XK2w6kkxcbGqlChQtnqO3z4cD399NO3WR3+jTI6v1JTU9WjRw+NHj1abdq0yaPKgNxzO2MxgMwRZpGlzD4mOCPe3t7y9vbOxWr+ma5du6b8+fNbbt05IaPzy8XFRStXrsyDagAAVsT/7/7FWrRooUGDBmnkyJEqXLiwAgICNGbMGIc+N/8b+LffflP37t1VuHBheXl5qU6dOtq6dauk9NMMtm3bpjZt2qho0aLy8/NT8+bN9eOPP6Zb/7vvvqtOnTqpQIECCgsL07Jlyxz6LF++XOXLl5enp6fuueceHTt2LN2+fPrpp6pSpYrc3d0VEhKiSZMm3XL/P//8c9WqVUseHh4qW7asoqOjdf36dadqu1lISIjGjRun7t27y8vLSyVLltTUqVPT7fP06dP1wAMPyMvLSy+//LIkafr06SpXrpzc3NxUoUIFzZs3z2G5AwcOqEmTJvLw8FDlypW1du1ah5/PsWPHZLPZtHDhQjVv3lweHh768MMPdeHCBXXv3l0lS5ZUgQIFVK1aNX388ccO627RooWefvppDRkyRIUKFVLx4sX1zjvv2D+Nz8fHR6GhoVqxYoV9mZSUFPXu3VtlypSRp6enKlSooDfeeCPdMZk9e7b9ZxMYGKiBAwc6HIsbz6+9e/eqZcuW8vT0VJEiRfTkk08qISHB/nzPnj0VERGh//3vfwoMDFSRIkU0YMAAXbt2LcufC3C3CgkJUUxMjENbjRo1HMbiy5cvq0+fPipWrJh8fX3VsmVL7d6922GZ8ePHy9/fXz4+PurTp4+ee+45h/E4NTVVY8eOValSpeTu7m7/gKKsJCYmKjIyUt7e3goMDMxwXE1KStLw4cNVsmRJeXl5qX79+vrmm2+yXK/NZtPMmTN1//33q0CBAqpUqZK2bNmiw4cPq0WLFvLy8lKjRo105MgRh+WyGrONMRozZoxKly4td3d3lShRQoMGDbIvO2/ePNWpU0c+Pj4KCAjQo48+qrNnz2ZZJyzE4F8jKirKPPjgg/bHzZs3N76+vmbMmDHm0KFD5v333zc2m82sXr3a3keS+eyzz4wxxly5csWULVvWNG3a1Hz77bfml19+MQsXLjSbN282xhgzevRoEx4ebl923bp1Zt68eWb//v3m559/Nr179zbFixc38fHxDusvVaqU+eijj8wvv/xiBg0aZLy9vc2FCxeMMcacOHHCuLu7m6FDh5oDBw6Y+fPnm+LFixtJ5tKlS8YYY7Zv325cXFzM2LFjzcGDB82cOXOMp6enmTNnTqbHYuPGjcbX19fMnTvXHDlyxKxevdqEhISYMWPGZLu2jAQHBxsfHx8zYcIEc/DgQfPmm28aV1fXdMfU39/fzJ492xw5csQcP37cLFmyxOTPn99MnTrVHDx40EyaNMm4urqar7/+2hhjzPXr102FChVMmzZtzK5du8y3335r6tWr5/DzOXr0qJFkQkJCzKeffmp+/fVXc+rUKfPbb7+ZiRMnmp07d5ojR47Ya9q6davDueDj42PGjRtnDh06ZMaNG2dcXV1Nu3btzKxZs8yhQ4fMf/7zH1OkSBGTmJhojDEmOTnZvPTSS2bbtm3m119/NfPnzzcFChQwCxcutK932rRpxsPDw8TExJiDBw+aH374wUyZMiXD8yshIcEEBgaahx56yOzdu9esW7fOlClTxkRFRdn7R0VFGV9fX9OvXz+zf/9+88UXX5gCBQqYWbNmZfozAe42N47FwcHBDq8JY4wJDw83o0ePtj9u3bq16dixo9m2bZs5dOiQGTZsmClSpIh9LJo/f77x8PAws2fPNgcPHjTR0dHG19fXYTyePHmy8fX1NR9//LE5cOCAGTlypMmfP785dOhQpnX+5z//MaVLlzZr1641e/bsMffff7/x8fExgwcPtvfp06ePadSokdm4caM5fPiwmThxonF3d89yvZJMyZIlzcKFC83BgwdNRESECQkJMS1btjQrV640P//8s2nQoIG577777MvcasxevHix8fX1NcuXLzfHjx83W7dudRgX3nvvPbN8+XJz5MgRs2XLFtOwYUPTrl27TGuEtRBm/0UyCrNNmjRx6FO3bl3z7LPP2h/fGDZmzpxpfHx8Mg1zN4fZm6WkpBgfHx/zxRdfOKz/xRdftD9OSEgwksyKFSuMMcaMGjXKVK5c2WE9zz77rEOYffTRR02bNm0c+owYMSLdcjdq1aqVeeWVVxza5s2bZwIDA7NdW0aCg4MdBmBjjOnatavDoCnJDBkyxKFPo0aNTN++fR3aunTpYtq3b2+MMWbFihUmX758JjY21v78mjVrMgyzMTExmdaXpkOHDmbYsGH2xzefC9evXzdeXl6mR48e9rbY2FgjyWzZsiXT9Q4YMMA8/PDD9sclSpQwL7zwQqb9b6x/1qxZplChQiYhIcH+/FdffWVcXFzM6dOnjTF/ncPBwcHm+vXr9j5dunQxXbt2veU+A3cLZ8Lst99+a3x9fc3Vq1cd+pQrV87MnDnTGGNM/fr1zYABAxyeb9y4scN4XKJECfPyyy879Klbt67p379/hjVeuXLFuLm5mUWLFtnbLly4YDw9Pe1h9vjx48bV1dX8/vvvDsu2atXKjBo1KtP9v3ls3bJli5Fk3nvvPXvbxx9/bDw8PBzWmdWYPWnSJFO+fHmTnJyc6XZvtG3bNiPJXLlyJVv9cXdjmsG/XPXq1R0eBwYGZvqvl127dqlmzZoqXLhwttZ95swZ9e3bV2FhYfLz85Ovr68SEhJ04sSJTGvw8vKSr6+vvYb9+/erfv36Dv0bNmzo8Hj//v1q3LixQ1vjxo31yy+/KCUlJcPadu/erbFjx9rn+Xp7e6tv376KjY3VH3/8ka3aMnNzfQ0bNtT+/fsd2urUqZOtfUhb7uDBgwoKCnKYY1qvXr0Mt3/zulNSUjRu3DhVq1ZNhQsXlre3t1atWpXlz8HV1VVFihRRtWrV7G3FixeXJIf9nzp1qmrXrq1ixYrJ29tbs2bNsq/37NmzOnXqlFq1apVhnTfbv3+/wsPD5eXl5XAMUlNTdfDgQXtblSpV5Orqan+c1TkLWN3u3buVkJCgIkWKOIxXR48etf8b/uDBg+nGgxsfx8fH69SpU1mOMTc7cuSIkpOTHcbfwoULq0KFCvbHe/fuVUpKisqXL+9Q24YNG9JNEbjZjeNN2thy83hz9epVxcfH249DVmN2ly5d9Oeff6ps2bLq27evPvvsM4dpYzt27FDHjh1VunRp+fj4qHnz5pKUbhyENfEGsH+5m98cZLPZMr2vp6enp1PrjoqK0oULF/TGG28oODhY7u7uatiwoZKTk2+7hpySkJCg6OhoPfTQQ+me8/DwyPXabgxsOe3mdU+cOFFvvPGGYmJiVK1aNXl5eWnIkCHZ+jnc2Gaz2STJvv8LFizQ8OHDNWnSJDVs2FA+Pj6aOHGifQ61s+dLduXF+QLkFhcXFxljHNpunAOekJCgwMDADOehFixYMJery1pCQoJcXV21Y8cOhz8wJd3yzcAZjS1ZjTe3GrODgoJ08OBBrV27VmvWrFH//v01ceJEbdiwQcnJyWrbtq3atm2rDz/8UMWKFdOJEyfUtm3bdOMgrIkwi2yrXr263n33XV28eDFbV2c3bdqkadOmqX379pKkkydP6vz5805ts1KlSunedPX999+n67Np06Z02y5fvny6ATZNrVq1dPDgQYWGhjpVT3bcXN/333+vSpUqZblM2j5ERUXZ2zZt2qTKlStLkipUqKCTJ0/qzJkz9qsY27Zty1Y9mzZt0oMPPqjHH39c0l+/HA4dOmRf9+3atGmTGjVqpP79+9vbbrwa4+Pjo5CQEK1bt0733HPPLddXqVIlzZ07V4mJifZAvmnTJrm4uDhcDQL+SYoVK6bY2Fj74/j4eB09etT+uFatWjp9+rTy5cunkJCQDNdRoUIFbdu2TZGRkfa2G8cHX19flShRQps2bbJfkZT+en1l9h+ecuXKKX/+/Nq6datKly4tSbp06ZIOHTpkX0fNmjWVkpKis2fPqmnTps7vvBOyM2Z7enqqY8eO6tixowYMGKCKFStq7969MsbowoULevXVVxUUFCTprw9lwT8HYRbZ1r17d73yyiuKiIjQhAkTFBgYqJ07d6pEiRLp/rUuSWFhYfZ3kMbHx2vEiBFOX63r16+fJk2apBEjRqhPnz7asWOH5s6d69Bn2LBhqlu3rsaNG6euXbtqy5YtevvttzVt2rRM1/vSSy/p/vvvV+nSpdW5c2e5uLho9+7d2rdvn8aPH+9UjTfbtGmTXn/9dUVERGjNmjVavHixvvrqqyyXGTFihB555BHVrFlTrVu31hdffKElS5Zo7dq1kqQ2bdqoXLlyioqK0uuvv64rV67oxRdflPT/VzAyExYWpk8++USbN29WoUKFNHnyZJ05c+Zvh9mwsDB98MEHWrVqlcqUKaN58+Zp27ZtKlOmjL3PmDFj1K9fP/n7+6tdu3a6cuWKNm3alOH9iB977DGNHj1aUVFRGjNmjM6dO6enn35aPXr0sAd44J+mZcuWmjt3rjp27KiCBQvqpZdecvgjvHXr1mrYsKEiIiL0+uuvq3z58jp16pS++uorderUSXXq1NHTTz+tvn37qk6dOmrUqJEWLlyoPXv2qGzZsvb1jBgxQqNHj1a5cuVUo0YNzZkzR7t27dKHH36YYV3e3t7q3bu3RowYoSJFisjf318vvPCCw4eYlC9fXo899pgiIyM1adIk1axZU+fOndO6detUvXp1dejQIceO063G7Llz5yolJUX169dXgQIFNH/+fHl6eio4OFipqalyc3PTW2+9pX79+mnfvn0aN25cjtWGvMecWWSbm5ubVq9eLX9/f7Vv317VqlXTq6++munVz/fee0+XLl1SrVq11KNHDw0aNEj+/v5ObbN06dL69NNPtXTpUoWHh2vGjBl65ZVXHPrUqlVLixYt0oIFC1S1alW99NJLGjt2rHr27Jnpetu2basvv/xSq1evVt26ddWgQQNNmTJFwcHBTtWXkWHDhmn79u2qWbOmxo8fr8mTJ6tt27ZZLhMREaE33nhD//vf/1SlShXNnDlTc+bMUYsWLST9NYd16dKlSkhIUN26ddWnTx+98MILkhynRWTkxRdfVK1atdS2bVu1aNFCAQEBioiI+Nv7+dRTT+mhhx5S165dVb9+fV24cMHhKq3011STmJgYTZs2TVWqVNH999+vX375JcP1FShQQKtWrdLFixdVt25dde7cWa1atdLbb7/9t2sF7iapqanKl++va0mjRo1S8+bNdf/996tDhw6KiIhQuXLl7H1tNpuWL1+uZs2aqVevXipfvry6deum48eP2//Ie+yxxzRq1CgNHz5ctWrV0tGjR9WzZ0+HsWHQoEEaOnSohg0bpmrVqmnlypVatmyZwsLCMq1z4sSJatq0qTp27KjWrVurSZMmql27tkOfOXPmKDIyUsOGDVOFChUUERGhbdu22a/m5pRbjdkFCxbUO++8o8aNG6t69epau3atvvjiCxUpUkTFihXT3LlztXjxYlWuXFmvvvqq/ve//+VofchbNnPzZB0Aty0kJERDhgy5Ix/3uGnTJjVp0kSHDx92+OUH4O523333KTQ0NFf/UGvTpo0CAgLS3a8a+CdimgFgEZ999pm8vb0VFhamw4cPa/DgwWrcuDFBFrCIS5cuadOmTfrmm2/Ur1+/HFvvH3/8oRkzZqht27ZydXXVxx9/bH8jFPBvQJgFLOLKlSt69tlndeLECRUtWlStW7fO1iedAbg7PPHEE9q2bZuGDRumBx98MMfWmzYV4eWXX9bVq1dVoUIFffrpp2rdunWObQO4mzHNAAAAAJbFG8AAAABgWYRZAAAAWBZhFgAAAJZFmAUAAIBlEWYBAABgWYRZALConj175sinuQGAlRFmASCH9ezZUzabTTabTW5ubgoNDdXYsWN1/fr1vC4tS3PnzlXBggXzugwAcAofmgAAueC+++7TnDlzlJSUpOXLl2vAgAHKnz+/Ro0a5dAvOTlZbm5ueVQlAFgfV2YBIBe4u7srICBAwcHB+s9//qPWrVtr2bJl9qkBL7/8skqUKKEKFSpIkvbu3auWLVvK09NTRYoU0ZNPPqmEhAT7+lJSUjR06FAVLFhQRYoU0ciRI3XzZ96EhIQoJibGoa1GjRoaM2aM/fHly5f11FNPqXjx4vLw8FDVqlX15Zdf6ptvvlGvXr0UFxdnv6qcttylS5cUGRmpQoUKqUCBAmrXrp1++eWXXDluAOAswiwA3AGenp5KTk6WJK1bt04HDx7UmjVr9OWXXyoxMVFt27ZVoUKFtG3bNi1evFhr167VwIED7ctPmjRJc+fO1ezZs/Xdd9/p4sWL+uyzz5yqITU1Ve3atdOmTZs0f/58/fzzz3r11Vfl6uqqRo0aKSYmRr6+voqNjVVsbKyGDx8u6a9pE9u3b9eyZcu0ZcsWGWPUvn17Xbt2LecOEADcJqYZAEAuMsZo3bp1WrVqlZ5++mmdO3dOXl5eevfdd+3TC9555x1dvXpVH3zwgby8vCRJb7/9tjp27KjXXntNxYsXV0xMjEaNGqWHHnpIkjRjxgytWrXKqVrWrl2rH374Qfv371f58uUlSWXLlrU/7+fnJ5vNpoCAAHvbL7/8omXLlmnTpk1q1KiRJOnDDz9UUFCQli5dqi5dutz+wQGAHMCVWQDIBV9++aW8vb3l4eGhdu3aqWvXrvZ/21erVs1hnuz+/fsVHh5uD7KS1LhxY6WmpurgwYOKi4tTbGys6tevb38+X758qlOnjlM17dq1S6VKlbIH2ezYv3+/8uXL57DtIkWKqEKFCtq/f79T2weA3MCVWQDIBffcc4+mT58uNzc3lShRQvny/f9we2NozUkuLi7p5tHeOBXA09MzV7YLAHmJK7MAkAu8vLwUGhqq0qVLOwTZjFSqVEm7d+9WYmKivW3Tpk1ycXFRhQoV5Ofnp8DAQG3dutX+/PXr17Vjxw6H9RQrVkyxsbH2x/Hx8Tp69Kj9cfXq1fXbb7/p0KFDGdbh5uamlJSUdLVdv37dYdsXLlzQwYMHVbly5Sz3CwDuBMIsAOSxxx57TB4eHoqKitK+ffu0fv16Pf300+rRo4eKFy8uSRo8eLBeffVVLV26VAcOHFD//v11+fJlh/W0bNlS8+bN07fffqu9e/cqKipKrq6u9uebN2+uZs2a6eGHH9aaNWt09OhRrVixQitXrpT0190QEhIStG7dOp0/f15//PGHwsLC9OCDD6pv37767rvvtHv3bj3++OMqWbKkHnzwwTt2jAAgM4RZAMhjBQoU0KpVq3Tx4kXVrVtXnTt3VqtWrfT222/b+wwbNkw9evRQVFSUGjZsKB8fH3Xq1MlhPaNGjVLz5s11//33q0OHDoqIiFC5cuUc+nz66aeqW7euunfvrsqVK2vkyJH2q7GNGjVSv3791LVrVxUrVkyvv/66JGnOnDmqXbu27r//fjVs2FDGGC1fvlz58+fP5SMDALdmMzdPsAIAAAAsgiuzAAAAsCzCLAAAACyLMAsAAADLIswCAADAsgizAAAAsCzCLAAAACyLMAsAAADLIswCAADAsgizAAAAsCzCLAAAACyLMAsAAADL+j96I1yeEC1IIQAAAABJRU5ErkJggg==\n"
          },
          "metadata": {}
        },
        {
          "output_type": "display_data",
          "data": {
            "text/plain": [
              "<Figure size 800x600 with 1 Axes>"
            ],
            "image/png": "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\n"
          },
          "metadata": {}
        },
        {
          "output_type": "display_data",
          "data": {
            "text/plain": [
              "<Figure size 800x600 with 1 Axes>"
            ],
            "image/png": "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\n"
          },
          "metadata": {}
        }
      ]
    },
    {
      "cell_type": "markdown",
      "metadata": {
        "id": "Fl0cGi3bZKqU"
      },
      "source": [
        "# 5. Envío promedio por tienda"
      ]
    },
    {
      "cell_type": "code",
      "execution_count": null,
      "metadata": {
        "id": "S2JeaCykZNy9"
      },
      "outputs": [],
      "source": []
    },
    {
      "cell_type": "code",
      "execution_count": null,
      "metadata": {
        "id": "0tSdCie9ZQlt"
      },
      "outputs": [],
      "source": []
    }
  ],
  "metadata": {
    "colab": {
      "provenance": []
    },
    "kernelspec": {
      "display_name": "venv",
      "language": "python",
      "name": "python3"
    },
    "language_info": {
      "codemirror_mode": {
        "name": "ipython",
        "version": 3
      },
      "file_extension": ".py",
      "mimetype": "text/x-python",
      "name": "python",
      "nbconvert_exporter": "python",
      "pygments_lexer": "ipython3",
      "version": "3.13.3"
    }
  },
  "nbformat": 4,
  "nbformat_minor": 0
}