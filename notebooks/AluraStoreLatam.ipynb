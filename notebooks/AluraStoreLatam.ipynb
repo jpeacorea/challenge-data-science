{
  "cells": [
    {
      "cell_type": "markdown",
      "metadata": {
        "id": "RhEdWd9YUR6H"
      },
      "source": [
        "### Importación de datos\n",
        "\n"
      ]
    },
    {
      "cell_type": "code",
      "execution_count": 4,
      "metadata": {
        "colab": {
          "base_uri": "https://localhost:8080/",
          "height": 206
        },
        "id": "T3EvaeQ_INIL",
        "outputId": "344b1a2e-59f7-4aff-8a94-18d2cdd1dd9d"
      },
      "outputs": [
        {
          "output_type": "execute_result",
          "data": {
<<<<<<< HEAD
            "text/html": [
              "<div>\n",
=======
            "text/plain": [
              "            Producto Categoría del Producto    Precio  Costo de envío  \\\n",
              "0  Asistente virtual           Electrónicos  164300.0          6900.0   \n",
              "1    Mesa de comedor                Muebles  192300.0          8400.0   \n",
              "2      Juego de mesa               Juguetes  209600.0         15900.0   \n",
              "3         Microondas      Electrodomésticos  757500.0         41000.0   \n",
              "4   Silla de oficina                Muebles  335200.0         20200.0   \n",
              "\n",
              "  Fecha de Compra         Vendedor Lugar de Compra  Calificación  \\\n",
              "0      16/01/2021      Pedro Gomez          Bogotá             4   \n",
              "1      18/05/2022  Beatriz Morales        Medellín             1   \n",
              "2      15/03/2021   Juan Fernandez       Cartagena             1   \n",
              "3      03/05/2022   Juan Fernandez            Cali             4   \n",
              "4      07/11/2020    Maria Alfonso        Medellín             5   \n",
              "\n",
              "       Método de pago  Cantidad de cuotas       lat       lon  \n",
              "0  Tarjeta de crédito                   8   4.60971 -74.08175  \n",
              "1  Tarjeta de crédito                   4   6.25184 -75.56359  \n",
              "2  Tarjeta de crédito                   1  10.39972 -75.51444  \n",
              "3               Nequi                   1   3.43722 -76.52250  \n",
              "4               Nequi                   1   6.25184 -75.56359  "
            ],
            "text/html": [
              "\n",
              "  <div id=\"df-651e2006-8fbf-41e8-a7f6-0240b5add444\" class=\"colab-df-container\">\n",
              "    <div>\n",
>>>>>>> c1e8a3b4afffa8419795c9fedbd971c722f1fb98
              "<style scoped>\n",
              "    .dataframe tbody tr th:only-of-type {\n",
              "        vertical-align: middle;\n",
              "    }\n",
              "\n",
              "    .dataframe tbody tr th {\n",
              "        vertical-align: top;\n",
              "    }\n",
              "\n",
              "    .dataframe thead th {\n",
              "        text-align: right;\n",
              "    }\n",
              "</style>\n",
              "<table border=\"1\" class=\"dataframe\">\n",
              "  <thead>\n",
              "    <tr style=\"text-align: right;\">\n",
              "      <th></th>\n",
              "      <th>Producto</th>\n",
              "      <th>Categoría del Producto</th>\n",
              "      <th>Precio</th>\n",
              "      <th>Costo de envío</th>\n",
              "      <th>Fecha de Compra</th>\n",
              "      <th>Vendedor</th>\n",
              "      <th>Lugar de Compra</th>\n",
              "      <th>Calificación</th>\n",
              "      <th>Método de pago</th>\n",
              "      <th>Cantidad de cuotas</th>\n",
              "      <th>lat</th>\n",
              "      <th>lon</th>\n",
              "    </tr>\n",
              "  </thead>\n",
              "  <tbody>\n",
              "    <tr>\n",
              "      <th>0</th>\n",
              "      <td>Asistente virtual</td>\n",
              "      <td>Electrónicos</td>\n",
              "      <td>164300.0</td>\n",
              "      <td>6900.0</td>\n",
              "      <td>16/01/2021</td>\n",
              "      <td>Pedro Gomez</td>\n",
              "      <td>Bogotá</td>\n",
              "      <td>4</td>\n",
              "      <td>Tarjeta de crédito</td>\n",
              "      <td>8</td>\n",
              "      <td>4.60971</td>\n",
              "      <td>-74.08175</td>\n",
              "    </tr>\n",
              "    <tr>\n",
              "      <th>1</th>\n",
              "      <td>Mesa de comedor</td>\n",
              "      <td>Muebles</td>\n",
              "      <td>192300.0</td>\n",
              "      <td>8400.0</td>\n",
              "      <td>18/05/2022</td>\n",
              "      <td>Beatriz Morales</td>\n",
              "      <td>Medellín</td>\n",
              "      <td>1</td>\n",
              "      <td>Tarjeta de crédito</td>\n",
              "      <td>4</td>\n",
              "      <td>6.25184</td>\n",
              "      <td>-75.56359</td>\n",
              "    </tr>\n",
              "    <tr>\n",
              "      <th>2</th>\n",
              "      <td>Juego de mesa</td>\n",
              "      <td>Juguetes</td>\n",
              "      <td>209600.0</td>\n",
              "      <td>15900.0</td>\n",
              "      <td>15/03/2021</td>\n",
              "      <td>Juan Fernandez</td>\n",
              "      <td>Cartagena</td>\n",
              "      <td>1</td>\n",
              "      <td>Tarjeta de crédito</td>\n",
              "      <td>1</td>\n",
              "      <td>10.39972</td>\n",
              "      <td>-75.51444</td>\n",
              "    </tr>\n",
              "    <tr>\n",
              "      <th>3</th>\n",
              "      <td>Microondas</td>\n",
              "      <td>Electrodomésticos</td>\n",
              "      <td>757500.0</td>\n",
              "      <td>41000.0</td>\n",
              "      <td>03/05/2022</td>\n",
              "      <td>Juan Fernandez</td>\n",
              "      <td>Cali</td>\n",
              "      <td>4</td>\n",
              "      <td>Nequi</td>\n",
              "      <td>1</td>\n",
              "      <td>3.43722</td>\n",
              "      <td>-76.52250</td>\n",
              "    </tr>\n",
              "    <tr>\n",
              "      <th>4</th>\n",
              "      <td>Silla de oficina</td>\n",
              "      <td>Muebles</td>\n",
              "      <td>335200.0</td>\n",
              "      <td>20200.0</td>\n",
              "      <td>07/11/2020</td>\n",
              "      <td>Maria Alfonso</td>\n",
              "      <td>Medellín</td>\n",
              "      <td>5</td>\n",
              "      <td>Nequi</td>\n",
              "      <td>1</td>\n",
              "      <td>6.25184</td>\n",
              "      <td>-75.56359</td>\n",
              "    </tr>\n",
              "  </tbody>\n",
              "</table>\n",
<<<<<<< HEAD
              "</div>"
=======
              "</div>\n",
              "    <div class=\"colab-df-buttons\">\n",
              "\n",
              "  <div class=\"colab-df-container\">\n",
              "    <button class=\"colab-df-convert\" onclick=\"convertToInteractive('df-651e2006-8fbf-41e8-a7f6-0240b5add444')\"\n",
              "            title=\"Convert this dataframe to an interactive table.\"\n",
              "            style=\"display:none;\">\n",
              "\n",
              "  <svg xmlns=\"http://www.w3.org/2000/svg\" height=\"24px\" viewBox=\"0 -960 960 960\">\n",
              "    <path d=\"M120-120v-720h720v720H120Zm60-500h600v-160H180v160Zm220 220h160v-160H400v160Zm0 220h160v-160H400v160ZM180-400h160v-160H180v160Zm440 0h160v-160H620v160ZM180-180h160v-160H180v160Zm440 0h160v-160H620v160Z\"/>\n",
              "  </svg>\n",
              "    </button>\n",
              "\n",
              "  <style>\n",
              "    .colab-df-container {\n",
              "      display:flex;\n",
              "      gap: 12px;\n",
              "    }\n",
              "\n",
              "    .colab-df-convert {\n",
              "      background-color: #E8F0FE;\n",
              "      border: none;\n",
              "      border-radius: 50%;\n",
              "      cursor: pointer;\n",
              "      display: none;\n",
              "      fill: #1967D2;\n",
              "      height: 32px;\n",
              "      padding: 0 0 0 0;\n",
              "      width: 32px;\n",
              "    }\n",
              "\n",
              "    .colab-df-convert:hover {\n",
              "      background-color: #E2EBFA;\n",
              "      box-shadow: 0px 1px 2px rgba(60, 64, 67, 0.3), 0px 1px 3px 1px rgba(60, 64, 67, 0.15);\n",
              "      fill: #174EA6;\n",
              "    }\n",
              "\n",
              "    .colab-df-buttons div {\n",
              "      margin-bottom: 4px;\n",
              "    }\n",
              "\n",
              "    [theme=dark] .colab-df-convert {\n",
              "      background-color: #3B4455;\n",
              "      fill: #D2E3FC;\n",
              "    }\n",
              "\n",
              "    [theme=dark] .colab-df-convert:hover {\n",
              "      background-color: #434B5C;\n",
              "      box-shadow: 0px 1px 3px 1px rgba(0, 0, 0, 0.15);\n",
              "      filter: drop-shadow(0px 1px 2px rgba(0, 0, 0, 0.3));\n",
              "      fill: #FFFFFF;\n",
              "    }\n",
              "  </style>\n",
              "\n",
              "    <script>\n",
              "      const buttonEl =\n",
              "        document.querySelector('#df-651e2006-8fbf-41e8-a7f6-0240b5add444 button.colab-df-convert');\n",
              "      buttonEl.style.display =\n",
              "        google.colab.kernel.accessAllowed ? 'block' : 'none';\n",
              "\n",
              "      async function convertToInteractive(key) {\n",
              "        const element = document.querySelector('#df-651e2006-8fbf-41e8-a7f6-0240b5add444');\n",
              "        const dataTable =\n",
              "          await google.colab.kernel.invokeFunction('convertToInteractive',\n",
              "                                                    [key], {});\n",
              "        if (!dataTable) return;\n",
              "\n",
              "        const docLinkHtml = 'Like what you see? Visit the ' +\n",
              "          '<a target=\"_blank\" href=https://colab.research.google.com/notebooks/data_table.ipynb>data table notebook</a>'\n",
              "          + ' to learn more about interactive tables.';\n",
              "        element.innerHTML = '';\n",
              "        dataTable['output_type'] = 'display_data';\n",
              "        await google.colab.output.renderOutput(dataTable, element);\n",
              "        const docLink = document.createElement('div');\n",
              "        docLink.innerHTML = docLinkHtml;\n",
              "        element.appendChild(docLink);\n",
              "      }\n",
              "    </script>\n",
              "  </div>\n",
              "\n",
              "\n",
              "<div id=\"df-b7c488ff-75a2-44af-8e30-bb5ddd07d85e\">\n",
              "  <button class=\"colab-df-quickchart\" onclick=\"quickchart('df-b7c488ff-75a2-44af-8e30-bb5ddd07d85e')\"\n",
              "            title=\"Suggest charts\"\n",
              "            style=\"display:none;\">\n",
              "\n",
              "<svg xmlns=\"http://www.w3.org/2000/svg\" height=\"24px\"viewBox=\"0 0 24 24\"\n",
              "     width=\"24px\">\n",
              "    <g>\n",
              "        <path d=\"M19 3H5c-1.1 0-2 .9-2 2v14c0 1.1.9 2 2 2h14c1.1 0 2-.9 2-2V5c0-1.1-.9-2-2-2zM9 17H7v-7h2v7zm4 0h-2V7h2v10zm4 0h-2v-4h2v4z\"/>\n",
              "    </g>\n",
              "</svg>\n",
              "  </button>\n",
              "\n",
              "<style>\n",
              "  .colab-df-quickchart {\n",
              "      --bg-color: #E8F0FE;\n",
              "      --fill-color: #1967D2;\n",
              "      --hover-bg-color: #E2EBFA;\n",
              "      --hover-fill-color: #174EA6;\n",
              "      --disabled-fill-color: #AAA;\n",
              "      --disabled-bg-color: #DDD;\n",
              "  }\n",
              "\n",
              "  [theme=dark] .colab-df-quickchart {\n",
              "      --bg-color: #3B4455;\n",
              "      --fill-color: #D2E3FC;\n",
              "      --hover-bg-color: #434B5C;\n",
              "      --hover-fill-color: #FFFFFF;\n",
              "      --disabled-bg-color: #3B4455;\n",
              "      --disabled-fill-color: #666;\n",
              "  }\n",
              "\n",
              "  .colab-df-quickchart {\n",
              "    background-color: var(--bg-color);\n",
              "    border: none;\n",
              "    border-radius: 50%;\n",
              "    cursor: pointer;\n",
              "    display: none;\n",
              "    fill: var(--fill-color);\n",
              "    height: 32px;\n",
              "    padding: 0;\n",
              "    width: 32px;\n",
              "  }\n",
              "\n",
              "  .colab-df-quickchart:hover {\n",
              "    background-color: var(--hover-bg-color);\n",
              "    box-shadow: 0 1px 2px rgba(60, 64, 67, 0.3), 0 1px 3px 1px rgba(60, 64, 67, 0.15);\n",
              "    fill: var(--button-hover-fill-color);\n",
              "  }\n",
              "\n",
              "  .colab-df-quickchart-complete:disabled,\n",
              "  .colab-df-quickchart-complete:disabled:hover {\n",
              "    background-color: var(--disabled-bg-color);\n",
              "    fill: var(--disabled-fill-color);\n",
              "    box-shadow: none;\n",
              "  }\n",
              "\n",
              "  .colab-df-spinner {\n",
              "    border: 2px solid var(--fill-color);\n",
              "    border-color: transparent;\n",
              "    border-bottom-color: var(--fill-color);\n",
              "    animation:\n",
              "      spin 1s steps(1) infinite;\n",
              "  }\n",
              "\n",
              "  @keyframes spin {\n",
              "    0% {\n",
              "      border-color: transparent;\n",
              "      border-bottom-color: var(--fill-color);\n",
              "      border-left-color: var(--fill-color);\n",
              "    }\n",
              "    20% {\n",
              "      border-color: transparent;\n",
              "      border-left-color: var(--fill-color);\n",
              "      border-top-color: var(--fill-color);\n",
              "    }\n",
              "    30% {\n",
              "      border-color: transparent;\n",
              "      border-left-color: var(--fill-color);\n",
              "      border-top-color: var(--fill-color);\n",
              "      border-right-color: var(--fill-color);\n",
              "    }\n",
              "    40% {\n",
              "      border-color: transparent;\n",
              "      border-right-color: var(--fill-color);\n",
              "      border-top-color: var(--fill-color);\n",
              "    }\n",
              "    60% {\n",
              "      border-color: transparent;\n",
              "      border-right-color: var(--fill-color);\n",
              "    }\n",
              "    80% {\n",
              "      border-color: transparent;\n",
              "      border-right-color: var(--fill-color);\n",
              "      border-bottom-color: var(--fill-color);\n",
              "    }\n",
              "    90% {\n",
              "      border-color: transparent;\n",
              "      border-bottom-color: var(--fill-color);\n",
              "    }\n",
              "  }\n",
              "</style>\n",
              "\n",
              "  <script>\n",
              "    async function quickchart(key) {\n",
              "      const quickchartButtonEl =\n",
              "        document.querySelector('#' + key + ' button');\n",
              "      quickchartButtonEl.disabled = true;  // To prevent multiple clicks.\n",
              "      quickchartButtonEl.classList.add('colab-df-spinner');\n",
              "      try {\n",
              "        const charts = await google.colab.kernel.invokeFunction(\n",
              "            'suggestCharts', [key], {});\n",
              "      } catch (error) {\n",
              "        console.error('Error during call to suggestCharts:', error);\n",
              "      }\n",
              "      quickchartButtonEl.classList.remove('colab-df-spinner');\n",
              "      quickchartButtonEl.classList.add('colab-df-quickchart-complete');\n",
              "    }\n",
              "    (() => {\n",
              "      let quickchartButtonEl =\n",
              "        document.querySelector('#df-b7c488ff-75a2-44af-8e30-bb5ddd07d85e button');\n",
              "      quickchartButtonEl.style.display =\n",
              "        google.colab.kernel.accessAllowed ? 'block' : 'none';\n",
              "    })();\n",
              "  </script>\n",
              "</div>\n",
              "\n",
              "    </div>\n",
              "  </div>\n"
>>>>>>> c1e8a3b4afffa8419795c9fedbd971c722f1fb98
            ],
            "application/vnd.google.colaboratory.intrinsic+json": {
              "type": "dataframe",
              "variable_name": "tienda",
              "summary": "{\n  \"name\": \"tienda\",\n  \"rows\": 2359,\n  \"fields\": [\n    {\n      \"column\": \"Producto\",\n      \"properties\": {\n        \"dtype\": \"category\",\n        \"num_unique_values\": 51,\n        \"samples\": [\n          \"Guitarra ac\\u00fastica\",\n          \"Bal\\u00f3n de baloncesto\",\n          \"Smartwatch\"\n        ],\n        \"semantic_type\": \"\",\n        \"description\": \"\"\n      }\n    },\n    {\n      \"column\": \"Categor\\u00eda del Producto\",\n      \"properties\": {\n        \"dtype\": \"category\",\n        \"num_unique_values\": 8,\n        \"samples\": [\n          \"Muebles\",\n          \"Deportes y diversi\\u00f3n\",\n          \"Electr\\u00f3nicos\"\n        ],\n        \"semantic_type\": \"\",\n        \"description\": \"\"\n      }\n    },\n    {\n      \"column\": \"Precio\",\n      \"properties\": {\n        \"dtype\": \"number\",\n        \"std\": 614686.7653873172,\n        \"min\": 7600.0,\n        \"max\": 2977000.0,\n        \"num_unique_values\": 1937,\n        \"samples\": [\n          2499400.0,\n          14800.0,\n          80500.0\n        ],\n        \"semantic_type\": \"\",\n        \"description\": \"\"\n      }\n    },\n    {\n      \"column\": \"Costo de env\\u00edo\",\n      \"properties\": {\n        \"dtype\": \"number\",\n        \"std\": 32860.0017825605,\n        \"min\": 0.0,\n        \"max\": 160800.0,\n        \"num_unique_values\": 753,\n        \"samples\": [\n          117800.0,\n          54700.0,\n          45600.0\n        ],\n        \"semantic_type\": \"\",\n        \"description\": \"\"\n      }\n    },\n    {\n      \"column\": \"Fecha de Compra\",\n      \"properties\": {\n        \"dtype\": \"object\",\n        \"num_unique_values\": 1018,\n        \"samples\": [\n          \"15/09/2022\",\n          \"03/06/2020\",\n          \"06/11/2021\"\n        ],\n        \"semantic_type\": \"\",\n        \"description\": \"\"\n      }\n    },\n    {\n      \"column\": \"Vendedor\",\n      \"properties\": {\n        \"dtype\": \"category\",\n        \"num_unique_values\": 14,\n        \"samples\": [\n          \"Juliana Costa\",\n          \"Mariana Herrera\",\n          \"Pedro Gomez\"\n        ],\n        \"semantic_type\": \"\",\n        \"description\": \"\"\n      }\n    },\n    {\n      \"column\": \"Lugar de Compra\",\n      \"properties\": {\n        \"dtype\": \"category\",\n        \"num_unique_values\": 19,\n        \"samples\": [\n          \"Bogot\\u00e1\",\n          \"Pereira\",\n          \"Neiva\"\n        ],\n        \"semantic_type\": \"\",\n        \"description\": \"\"\n      }\n    },\n    {\n      \"column\": \"Calificaci\\u00f3n\",\n      \"properties\": {\n        \"dtype\": \"number\",\n        \"std\": 1,\n        \"min\": 1,\n        \"max\": 5,\n        \"num_unique_values\": 5,\n        \"samples\": [\n          1,\n          2,\n          5\n        ],\n        \"semantic_type\": \"\",\n        \"description\": \"\"\n      }\n    },\n    {\n      \"column\": \"M\\u00e9todo de pago\",\n      \"properties\": {\n        \"dtype\": \"category\",\n        \"num_unique_values\": 4,\n        \"samples\": [\n          \"Nequi\",\n          \"Tarjeta de d\\u00e9bito\",\n          \"Tarjeta de cr\\u00e9dito\"\n        ],\n        \"semantic_type\": \"\",\n        \"description\": \"\"\n      }\n    },\n    {\n      \"column\": \"Cantidad de cuotas\",\n      \"properties\": {\n        \"dtype\": \"number\",\n        \"std\": 2,\n        \"min\": 1,\n        \"max\": 24,\n        \"num_unique_values\": 15,\n        \"samples\": [\n          7,\n          14,\n          8\n        ],\n        \"semantic_type\": \"\",\n        \"description\": \"\"\n      }\n    },\n    {\n      \"column\": \"lat\",\n      \"properties\": {\n        \"dtype\": \"number\",\n        \"std\": 2.2874452492678627,\n        \"min\": -4.21528,\n        \"max\": 11.54444,\n        \"num_unique_values\": 19,\n        \"samples\": [\n          4.60971,\n          4.81333,\n          2.9273\n        ],\n        \"semantic_type\": \"\",\n        \"description\": \"\"\n      }\n    },\n    {\n      \"column\": \"lon\",\n      \"properties\": {\n        \"dtype\": \"number\",\n        \"std\": 1.2178272727088486,\n        \"min\": -77.28111,\n        \"max\": -67.9239,\n        \"num_unique_values\": 19,\n        \"samples\": [\n          -74.08175,\n          -75.69611,\n          -75.28189\n        ],\n        \"semantic_type\": \"\",\n        \"description\": \"\"\n      }\n    }\n  ]\n}"
            }
          },
          "metadata": {},
          "execution_count": 4
        }
      ],
      "source": [
        "import pandas as pd\n",
        "\n",
        "url = \"https://raw.githubusercontent.com/alura-es-cursos/challenge1-data-science-latam/refs/heads/main/base-de-datos-challenge1-latam/tienda_1%20.csv\"\n",
        "url2 = \"https://raw.githubusercontent.com/alura-es-cursos/challenge1-data-science-latam/refs/heads/main/base-de-datos-challenge1-latam/tienda_2.csv\"\n",
        "url3 = \"https://raw.githubusercontent.com/alura-es-cursos/challenge1-data-science-latam/refs/heads/main/base-de-datos-challenge1-latam/tienda_3.csv\"\n",
        "url4 = \"https://raw.githubusercontent.com/alura-es-cursos/challenge1-data-science-latam/refs/heads/main/base-de-datos-challenge1-latam/tienda_4.csv\"\n",
        "\n",
        "tienda = pd.read_csv(url)\n",
        "tienda2 = pd.read_csv(url2)\n",
        "tienda3 = pd.read_csv(url3)\n",
        "tienda4 = pd.read_csv(url4)\n",
        "\n",
        "tienda.head()"
      ]
    },
    {
      "cell_type": "markdown",
      "metadata": {
        "id": "X62IW3KFUIYm"
      },
      "source": [
        "# 1. Análisis de facturación\n",
        "\n"
      ]
    },
    {
      "cell_type": "code",
      "execution_count": 7,
      "metadata": {
        "id": "xykobSftV64I",
        "colab": {
          "base_uri": "https://localhost:8080/"
        },
        "outputId": "cb385ac1-ce99-4646-d716-cb41cfa8d8f7"
      },
      "outputs": [
        {
          "output_type": "stream",
          "name": "stdout",
          "text": [
            "Total ingresos para tienda 1: 1150880400.0\n",
            "Total ingresos para tienda 2: 1116343500.0\n",
            "Total ingresos para tienda 3: 1098019600.0\n",
            "Total ingresos para tienda 4: 1038375700.0\n"
          ]
        }
      ],
      "source": [
        "# genera el ingreso total de cada tienda, sumando la columna Precio para ingresos\n",
        "\n",
        "import pandas as pd\n",
        "\n",
        "# Calcular los ingresos totales de cada tienda\n",
        "total_ingresos_tienda1 = tienda['Precio'].sum()\n",
        "total_ingresos_tienda2 = tienda2['Precio'].sum()\n",
        "total_ingresos_tienda3 = tienda3['Precio'].sum()\n",
        "total_ingresos_tienda4 = tienda4['Precio'].sum()\n",
        "\n",
        "print(f\"Total ingresos para tienda 1: {total_ingresos_tienda1}\")\n",
        "print(f\"Total ingresos para tienda 2: {total_ingresos_tienda2}\")\n",
        "print(f\"Total ingresos para tienda 3: {total_ingresos_tienda3}\")\n",
        "print(f\"Total ingresos para tienda 4: {total_ingresos_tienda4}\")\n"
      ]
    },
    {
      "cell_type": "markdown",
      "metadata": {
        "id": "2V_vcAPzWZmR"
      },
      "source": [
        "# 2. Ventas por categoría"
      ]
    },
    {
      "cell_type": "code",
      "execution_count": 8,
      "metadata": {
        "id": "A34YupIuYhfF",
        "colab": {
          "base_uri": "https://localhost:8080/"
        },
        "outputId": "24d1111f-3130-4d0d-8c90-6862885fc2ad"
      },
      "outputs": [
        {
          "output_type": "stream",
          "name": "stdout",
          "text": [
            "Tienda 1 - Categorías más populares:\n",
            "Categoría del Producto\n",
            "Muebles                    465\n",
            "Electrónicos               448\n",
            "Juguetes                   324\n",
            "Electrodomésticos          312\n",
            "Deportes y diversión       284\n",
            "Instrumentos musicales     182\n",
            "Libros                     173\n",
            "Artículos para el hogar    171\n",
            "Name: Precio, dtype: int64\n",
            "\n",
            "Tienda 2 - Categorías más populares:\n",
            "Categoría del Producto\n",
            "Muebles                    442\n",
            "Electrónicos               422\n",
            "Juguetes                   313\n",
            "Electrodomésticos          305\n",
            "Deportes y diversión       275\n",
            "Instrumentos musicales     224\n",
            "Libros                     197\n",
            "Artículos para el hogar    181\n",
            "Name: Precio, dtype: int64\n",
            "\n",
            "Tienda 3 - Categorías más populares:\n",
            "Categoría del Producto\n",
            "Muebles                    499\n",
            "Electrónicos               451\n",
            "Juguetes                   315\n",
            "Electrodomésticos          278\n",
            "Deportes y diversión       277\n",
            "Libros                     185\n",
            "Artículos para el hogar    177\n",
            "Instrumentos musicales     177\n",
            "Name: Precio, dtype: int64\n",
            "\n",
            "Tienda 4 - Categorías más populares:\n",
            "Categoría del Producto\n",
            "Muebles                    480\n",
            "Electrónicos               451\n",
            "Juguetes                   338\n",
            "Deportes y diversión       277\n",
            "Electrodomésticos          254\n",
            "Artículos para el hogar    201\n",
            "Libros                     187\n",
            "Instrumentos musicales     170\n",
            "Name: Precio, dtype: int64\n"
          ]
        }
      ],
      "source": [
        "# Calcular la cantidad de productos vendidos por categoría en cada tienda. La idea es agrupar los datos por categoría y contar el número de ventas de cada tipo, mostrando las categorías más populares de cada tienda.\n",
        "\n",
        "# Agrupar por categoría y contar las ventas para cada tienda\n",
        "ventas_por_categoria_tienda1 = tienda.groupby('Categoría del Producto')['Precio'].count()\n",
        "ventas_por_categoria_tienda2 = tienda2.groupby('Categoría del Producto')['Precio'].count()\n",
        "ventas_por_categoria_tienda3 = tienda3.groupby('Categoría del Producto')['Precio'].count()\n",
        "ventas_por_categoria_tienda4 = tienda4.groupby('Categoría del Producto')['Precio'].count()\n",
        "\n",
        "# Mostrar las categorías más populares de cada tienda\n",
        "print(\"Tienda 1 - Categorías más populares:\")\n",
        "print(ventas_por_categoria_tienda1.sort_values(ascending=False))\n",
        "print(\"\\nTienda 2 - Categorías más populares:\")\n",
        "print(ventas_por_categoria_tienda2.sort_values(ascending=False))\n",
        "print(\"\\nTienda 3 - Categorías más populares:\")\n",
        "print(ventas_por_categoria_tienda3.sort_values(ascending=False))\n",
        "print(\"\\nTienda 4 - Categorías más populares:\")\n",
        "print(ventas_por_categoria_tienda4.sort_values(ascending=False))\n"
      ]
    },
    {
      "cell_type": "markdown",
      "metadata": {
        "id": "Rq6tU_xSY3jk"
      },
      "source": [
        "# 3. Calificación promedio de la tienda\n"
      ]
    },
    {
      "cell_type": "code",
      "execution_count": 9,
      "metadata": {
        "id": "bh3jjjJwY5MU",
        "colab": {
          "base_uri": "https://localhost:8080/"
        },
        "outputId": "93e0912c-bf77-4603-f9a7-f146c90c5e49"
      },
      "outputs": [
        {
          "output_type": "stream",
          "name": "stdout",
          "text": [
            "Calificación promedio para tienda 1: 3.976685036032217\n",
            "Calificación promedio para tienda 2: 4.037303942348453\n",
            "Calificación promedio para tienda 3: 4.048325561678677\n",
            "Calificación promedio para tienda 4: 3.9957591178965224\n"
          ]
        }
      ],
      "source": [
        "#  Calcular la calificación promedio de los clientes por cada tienda\n",
        "\n",
        "promedio_calificacion_tienda1 = tienda['Calificación'].mean()\n",
        "promedio_calificacion_tienda2 = tienda2['Calificación'].mean()\n",
        "promedio_calificacion_tienda3 = tienda3['Calificación'].mean()\n",
        "promedio_calificacion_tienda4 = tienda4['Calificación'].mean()\n",
        "\n",
        "print(f\"Calificación promedio para tienda 1: {promedio_calificacion_tienda1}\")\n",
        "print(f\"Calificación promedio para tienda 2: {promedio_calificacion_tienda2}\")\n",
        "print(f\"Calificación promedio para tienda 3: {promedio_calificacion_tienda3}\")\n",
        "print(f\"Calificación promedio para tienda 4: {promedio_calificacion_tienda4}\")\n"
      ]
    },
    {
      "cell_type": "markdown",
      "metadata": {
        "id": "DmNp1KPBZCm-"
      },
      "source": [
        "# 4. Productos más y menos vendidos"
      ]
    },
    {
      "cell_type": "code",
      "execution_count": 10,
      "metadata": {
        "id": "qoyjqijQZHfF",
        "colab": {
          "base_uri": "https://localhost:8080/"
        },
        "outputId": "2a6b6511-c716-4b4f-e005-a303b0e4d905"
      },
      "outputs": [
        {
          "output_type": "stream",
          "name": "stdout",
          "text": [
            "Tienda 1: Producto más vendido - Armario, menos vendido - Auriculares con micrófono\n",
            "Tienda 2: Producto más vendido - Iniciando en programación, menos vendido - Juego de mesa\n",
            "Tienda 3: Producto más vendido - Kit de bancas, menos vendido - Bloques de construcción\n",
            "Tienda 4: Producto más vendido - Cama box, menos vendido - Guitarra eléctrica\n"
          ]
        }
      ],
      "source": [
        "# Que productos fueron los mas vendidos y los menos vendidos por cada tienda\n",
        "from matplotlib import pyplot as plt\n",
        "\n",
        "def productos_mas_menos_vendidos(tienda):\n",
        "    ventas_por_producto = tienda.groupby('Producto')['Precio'].count()\n",
        "    mas_vendido = ventas_por_producto.idxmax()\n",
        "    menos_vendido = ventas_por_producto.idxmin()\n",
        "    return mas_vendido, menos_vendido\n",
        "\n",
        "mas_vendido_t1, menos_vendido_t1 = productos_mas_menos_vendidos(tienda)\n",
        "mas_vendido_t2, menos_vendido_t2 = productos_mas_menos_vendidos(tienda2)\n",
        "mas_vendido_t3, menos_vendido_t3 = productos_mas_menos_vendidos(tienda3)\n",
        "mas_vendido_t4, menos_vendido_t4 = productos_mas_menos_vendidos(tienda4)\n",
        "\n",
        "print(f\"Tienda 1: Producto más vendido - {mas_vendido_t1}, menos vendido - {menos_vendido_t1}\")\n",
        "print(f\"Tienda 2: Producto más vendido - {mas_vendido_t2}, menos vendido - {menos_vendido_t2}\")\n",
        "print(f\"Tienda 3: Producto más vendido - {mas_vendido_t3}, menos vendido - {menos_vendido_t3}\")\n",
        "print(f\"Tienda 4: Producto más vendido - {mas_vendido_t4}, menos vendido - {menos_vendido_t4}\")"
      ]
    },
    {
      "cell_type": "markdown",
      "metadata": {
        "id": "Fl0cGi3bZKqU"
      },
      "source": [
        "# 5. Envío promedio por tienda"
      ]
    },
    {
      "cell_type": "code",
      "execution_count": 11,
      "metadata": {
        "id": "0tSdCie9ZQlt",
        "colab": {
          "base_uri": "https://localhost:8080/"
        },
        "outputId": "2e691745-62d4-4442-ba49-bd6ddeeda3c2"
      },
      "outputs": [
        {
          "output_type": "stream",
          "name": "stdout",
          "text": [
            "Costo promedio de envío para tienda 1: 26018.60958033065\n",
            "Costo promedio de envío para tienda 2: 25216.235693090293\n",
            "Costo promedio de envío para tienda 3: 24805.680373039424\n",
            "Costo promedio de envío para tienda 4: 23459.457167090754\n"
          ]
        }
      ],
      "source": [
        "# calcular el costo promedio de envio por cada tienda\n",
        "\n",
        "costo_promedio_envio_tienda1 = tienda['Costo de envío'].mean()\n",
        "costo_promedio_envio_tienda2 = tienda2['Costo de envío'].mean()\n",
        "costo_promedio_envio_tienda3 = tienda3['Costo de envío'].mean()\n",
        "costo_promedio_envio_tienda4 = tienda4['Costo de envío'].mean()\n",
        "\n",
        "print(f\"Costo promedio de envío para tienda 1: {costo_promedio_envio_tienda1}\")\n",
        "print(f\"Costo promedio de envío para tienda 2: {costo_promedio_envio_tienda2}\")\n",
        "print(f\"Costo promedio de envío para tienda 3: {costo_promedio_envio_tienda3}\")\n",
        "print(f\"Costo promedio de envío para tienda 4: {costo_promedio_envio_tienda4}\")\n"
      ]
    },
    {
      "cell_type": "markdown",
      "source": [
        "# 😬 **Visualizaciones de los analisis**"
      ],
      "metadata": {
        "id": "PQa_wFVAI6G5"
      }
    },
    {
      "cell_type": "code",
      "source": [
        "# Genera 3 graficos, de barras, de dispersion, de linesas, de todos los analisis anteriores\n",
        "\n",
        "# Ingresos totales por tienda\n",
        "ingresos = [total_ingresos_tienda1, total_ingresos_tienda2, total_ingresos_tienda3, total_ingresos_tienda4]\n",
        "tiendas = ['Tienda 1', 'Tienda 2', 'Tienda 3', 'Tienda 4']\n",
        "\n",
        "plt.figure(figsize=(8, 6))\n",
        "plt.bar(tiendas, ingresos, color=['skyblue', 'salmon', 'lightgreen', 'lightcoral'])\n",
        "plt.xlabel('Tiendas')\n",
        "plt.ylabel('Ingresos totales')\n",
        "plt.title('Ingresos Totales por Tienda')\n",
        "plt.show()\n",
        "\n",
        "\n",
        "# Calificaciones promedio por tienda\n",
        "calificaciones = [promedio_calificacion_tienda1, promedio_calificacion_tienda2, promedio_calificacion_tienda3, promedio_calificacion_tienda4]\n",
        "\n",
        "plt.figure(figsize=(8, 6))\n",
        "plt.plot(tiendas, calificaciones, marker='o', linestyle='-', color='teal')\n",
        "plt.xlabel('Tiendas')\n",
        "plt.ylabel('Calificación Promedio')\n",
        "plt.title('Calificación Promedio por Tienda')\n",
        "plt.grid(True)\n",
        "plt.show()\n",
        "\n",
        "\n",
        "# Costo promedio de envío por tienda\n",
        "costos_envio = [costo_promedio_envio_tienda1, costo_promedio_envio_tienda2, costo_promedio_envio_tienda3, costo_promedio_envio_tienda4]\n",
        "\n",
        "plt.figure(figsize=(8, 6))\n",
        "plt.scatter(tiendas, costos_envio, color='purple', s=100)  # s controla el tamaño de los puntos\n",
        "plt.xlabel('Tiendas')\n",
        "plt.ylabel('Costo Promedio de Envío')\n",
        "plt.title('Costo Promedio de Envío por Tienda')\n",
        "plt.show()\n"
      ],
      "metadata": {
        "colab": {
          "base_uri": "https://localhost:8080/",
          "height": 1000
        },
        "id": "ThSvbXf_J00S",
        "outputId": "62a6907d-02ad-409d-9847-3d8a580c8a82"
      },
      "execution_count": 12,
      "outputs": [
        {
          "output_type": "display_data",
          "data": {
            "text/plain": [
              "<Figure size 800x600 with 1 Axes>"
            ],
            "image/png": "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\n"
          },
          "metadata": {}
        },
        {
          "output_type": "display_data",
          "data": {
            "text/plain": [
              "<Figure size 800x600 with 1 Axes>"
            ],
            "image/png": "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\n"
          },
          "metadata": {}
        },
        {
          "output_type": "display_data",
          "data": {
            "text/plain": [
              "<Figure size 800x600 with 1 Axes>"
            ],
            "image/png": "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\n"
          },
          "metadata": {}
        }
      ]
    },
    {
      "cell_type": "markdown",
      "source": [
        "# **Informe Final**\n",
        "\n",
        "Se necesita saber que tienda  se tiene que vender de las 4 tiendas establecidas en el consorcio estimado, por lo tanto se requio d eun analisis que diera la informacion necesaria para la toma de decision.\n",
        "\n",
        "Para ello se necesita los siguientes requerimientos:\n",
        "\n",
        "\n",
        "1.   Los **ingresos totales** de las tiendas.\n",
        "2.   Las **categorias de productos** mas y menos vendidas.\n",
        "3. Las **calificaciones promedio** de los clientes por tienda.\n",
        "4. Los **productos mas y menos vendidos**.\n",
        "5. El **coste de envio promedio** para cada tienda.\n",
        "\n",
        "Despues de dichos analisis, te ha llegado a la conclusion que el señor Juan debe vender la tienda numero 4, ya que es ella la que genera menor ingreso y el menor promedio de envio de tienda con respecto a las otras 3 tiendas restantantes.\n",
        "\n",
        "\n",
        "\n",
        "\n"
      ],
      "metadata": {
        "id": "4V6hV18g8I0J"
      }
    }
  ],
  "metadata": {
    "colab": {
      "provenance": []
    },
    "kernelspec": {
      "display_name": "venv",
      "language": "python",
      "name": "python3"
    },
    "language_info": {
      "codemirror_mode": {
        "name": "ipython",
        "version": 3
      },
      "file_extension": ".py",
      "mimetype": "text/x-python",
      "name": "python",
      "nbconvert_exporter": "python",
      "pygments_lexer": "ipython3",
      "version": "3.13.3"
    }
  },
  "nbformat": 4,
  "nbformat_minor": 0
}